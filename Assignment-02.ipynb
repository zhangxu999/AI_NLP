{
 "cells": [
  {
   "cell_type": "markdown",
   "metadata": {},
   "source": [
    "## Assignments for Week-02"
   ]
  },
  {
   "cell_type": "markdown",
   "metadata": {},
   "source": [
    "In this course, we learnt what's the search problem and what's the machine leanring. In this assignment, we need you do some more practice."
   ]
  },
  {
   "cell_type": "markdown",
   "metadata": {},
   "source": [
    "### 1. Re-code the house price machine learning\n",
    "\n",
    "###### 1. Random Choose Method to get optimal *k* and *b*\n",
    "###### 2.Supervised Direction to get optimal *k* and *b*\n",
    "###### 3.Gradient Descent to get optimal *k* and *b*\n",
    "###### 4. Try different Loss function and learning rate. \n",
    "\n",
    "For example, you can change the loss function: $Loss = \\frac{1}{n} sum({y_i - \\hat{y_i}})^2$ to $Loss = \\frac{1}{n} sum(|{y_i - \\hat{y_i}}|)$\n",
    "\n",
    "And you can change the learning rate and observe the performance."
   ]
  },
  {
   "cell_type": "code",
   "execution_count": null,
   "metadata": {},
   "outputs": [],
   "source": []
  },
  {
   "cell_type": "code",
   "execution_count": 173,
   "metadata": {},
   "outputs": [],
   "source": [
    "import pandas as pd\n",
    "import numpy as np\n",
    "import matplotlib.pyplot as plt\n",
    "import random\n",
    "%matplotlib inline"
   ]
  },
  {
   "cell_type": "code",
   "execution_count": 174,
   "metadata": {},
   "outputs": [],
   "source": [
    "from sklearn.datasets import load_boston\n",
    "data = load_boston()\n",
    "X, y = data['data'], data['target']"
   ]
  },
  {
   "cell_type": "code",
   "execution_count": 4,
   "metadata": {},
   "outputs": [],
   "source": [
    "def get_estimate_price(value,k,b):\n",
    "    return k*value+b"
   ]
  },
  {
   "cell_type": "code",
   "execution_count": 9,
   "metadata": {},
   "outputs": [],
   "source": [
    "def get_loss(y, y_hat):\n",
    "    m = y.shape[0]\n",
    "    return np.sum(np.square(y_hat-y))/(2*m)"
   ]
  },
  {
   "cell_type": "code",
   "execution_count": 13,
   "metadata": {},
   "outputs": [],
   "source": [
    "# best_k = random.randint(-100,100)\n",
    "# best_b = random.randint(-100,100)"
   ]
  },
  {
   "cell_type": "code",
   "execution_count": 175,
   "metadata": {},
   "outputs": [],
   "source": [
    "feature = X[:,5]"
   ]
  },
  {
   "cell_type": "code",
   "execution_count": 176,
   "metadata": {},
   "outputs": [
    {
     "data": {
      "text/plain": [
       "array([6.575, 6.421, 7.185, 6.998, 7.147, 6.43 , 6.012, 6.172, 5.631,\n",
       "       6.004, 6.377, 6.009, 5.889, 5.949, 6.096, 5.834, 5.935, 5.99 ,\n",
       "       5.456, 5.727, 5.57 , 5.965, 6.142, 5.813, 5.924, 5.599, 5.813,\n",
       "       6.047, 6.495, 6.674, 5.713, 6.072, 5.95 , 5.701, 6.096, 5.933,\n",
       "       5.841, 5.85 , 5.966, 6.595, 7.024, 6.77 , 6.169, 6.211, 6.069,\n",
       "       5.682, 5.786, 6.03 , 5.399, 5.602, 5.963, 6.115, 6.511, 5.998,\n",
       "       5.888, 7.249, 6.383, 6.816, 6.145, 5.927, 5.741, 5.966, 6.456,\n",
       "       6.762, 7.104, 6.29 , 5.787, 5.878, 5.594, 5.885, 6.417, 5.961,\n",
       "       6.065, 6.245, 6.273, 6.286, 6.279, 6.14 , 6.232, 5.874, 6.727,\n",
       "       6.619, 6.302, 6.167, 6.389, 6.63 , 6.015, 6.121, 7.007, 7.079,\n",
       "       6.417, 6.405, 6.442, 6.211, 6.249, 6.625, 6.163, 8.069, 7.82 ,\n",
       "       7.416, 6.727, 6.781, 6.405, 6.137, 6.167, 5.851, 5.836, 6.127,\n",
       "       6.474, 6.229, 6.195, 6.715, 5.913, 6.092, 6.254, 5.928, 6.176,\n",
       "       6.021, 5.872, 5.731, 5.87 , 6.004, 5.961, 5.856, 5.879, 5.986,\n",
       "       5.613, 5.693, 6.431, 5.637, 6.458, 6.326, 6.372, 5.822, 5.757,\n",
       "       6.335, 5.942, 6.454, 5.857, 6.151, 6.174, 5.019, 5.403, 5.468,\n",
       "       4.903, 6.13 , 5.628, 4.926, 5.186, 5.597, 6.122, 5.404, 5.012,\n",
       "       5.709, 6.129, 6.152, 5.272, 6.943, 6.066, 6.51 , 6.25 , 7.489,\n",
       "       7.802, 8.375, 5.854, 6.101, 7.929, 5.877, 6.319, 6.402, 5.875,\n",
       "       5.88 , 5.572, 6.416, 5.859, 6.546, 6.02 , 6.315, 6.86 , 6.98 ,\n",
       "       7.765, 6.144, 7.155, 6.563, 5.604, 6.153, 7.831, 6.782, 6.556,\n",
       "       7.185, 6.951, 6.739, 7.178, 6.8  , 6.604, 7.875, 7.287, 7.107,\n",
       "       7.274, 6.975, 7.135, 6.162, 7.61 , 7.853, 8.034, 5.891, 6.326,\n",
       "       5.783, 6.064, 5.344, 5.96 , 5.404, 5.807, 6.375, 5.412, 6.182,\n",
       "       5.888, 6.642, 5.951, 6.373, 6.951, 6.164, 6.879, 6.618, 8.266,\n",
       "       8.725, 8.04 , 7.163, 7.686, 6.552, 5.981, 7.412, 8.337, 8.247,\n",
       "       6.726, 6.086, 6.631, 7.358, 6.481, 6.606, 6.897, 6.095, 6.358,\n",
       "       6.393, 5.593, 5.605, 6.108, 6.226, 6.433, 6.718, 6.487, 6.438,\n",
       "       6.957, 8.259, 6.108, 5.876, 7.454, 8.704, 7.333, 6.842, 7.203,\n",
       "       7.52 , 8.398, 7.327, 7.206, 5.56 , 7.014, 8.297, 7.47 , 5.92 ,\n",
       "       5.856, 6.24 , 6.538, 7.691, 6.758, 6.854, 7.267, 6.826, 6.482,\n",
       "       6.812, 7.82 , 6.968, 7.645, 7.923, 7.088, 6.453, 6.23 , 6.209,\n",
       "       6.315, 6.565, 6.861, 7.148, 6.63 , 6.127, 6.009, 6.678, 6.549,\n",
       "       5.79 , 6.345, 7.041, 6.871, 6.59 , 6.495, 6.982, 7.236, 6.616,\n",
       "       7.42 , 6.849, 6.635, 5.972, 4.973, 6.122, 6.023, 6.266, 6.567,\n",
       "       5.705, 5.914, 5.782, 6.382, 6.113, 6.426, 6.376, 6.041, 5.708,\n",
       "       6.415, 6.431, 6.312, 6.083, 5.868, 6.333, 6.144, 5.706, 6.031,\n",
       "       6.316, 6.31 , 6.037, 5.869, 5.895, 6.059, 5.985, 5.968, 7.241,\n",
       "       6.54 , 6.696, 6.874, 6.014, 5.898, 6.516, 6.635, 6.939, 6.49 ,\n",
       "       6.579, 5.884, 6.728, 5.663, 5.936, 6.212, 6.395, 6.127, 6.112,\n",
       "       6.398, 6.251, 5.362, 5.803, 8.78 , 3.561, 4.963, 3.863, 4.97 ,\n",
       "       6.683, 7.016, 6.216, 5.875, 4.906, 4.138, 7.313, 6.649, 6.794,\n",
       "       6.38 , 6.223, 6.968, 6.545, 5.536, 5.52 , 4.368, 5.277, 4.652,\n",
       "       5.   , 4.88 , 5.39 , 5.713, 6.051, 5.036, 6.193, 5.887, 6.471,\n",
       "       6.405, 5.747, 5.453, 5.852, 5.987, 6.343, 6.404, 5.349, 5.531,\n",
       "       5.683, 4.138, 5.608, 5.617, 6.852, 5.757, 6.657, 4.628, 5.155,\n",
       "       4.519, 6.434, 6.782, 5.304, 5.957, 6.824, 6.411, 6.006, 5.648,\n",
       "       6.103, 5.565, 5.896, 5.837, 6.202, 6.193, 6.38 , 6.348, 6.833,\n",
       "       6.425, 6.436, 6.208, 6.629, 6.461, 6.152, 5.935, 5.627, 5.818,\n",
       "       6.406, 6.219, 6.485, 5.854, 6.459, 6.341, 6.251, 6.185, 6.417,\n",
       "       6.749, 6.655, 6.297, 7.393, 6.728, 6.525, 5.976, 5.936, 6.301,\n",
       "       6.081, 6.701, 6.376, 6.317, 6.513, 6.209, 5.759, 5.952, 6.003,\n",
       "       5.926, 5.713, 6.167, 6.229, 6.437, 6.98 , 5.427, 6.162, 6.484,\n",
       "       5.304, 6.185, 6.229, 6.242, 6.75 , 7.061, 5.762, 5.871, 6.312,\n",
       "       6.114, 5.905, 5.454, 5.414, 5.093, 5.983, 5.983, 5.707, 5.926,\n",
       "       5.67 , 5.39 , 5.794, 6.019, 5.569, 6.027, 6.593, 6.12 , 6.976,\n",
       "       6.794, 6.03 ])"
      ]
     },
     "execution_count": 176,
     "metadata": {},
     "output_type": "execute_result"
    }
   ],
   "source": [
    "feature"
   ]
  },
  {
   "cell_type": "markdown",
   "metadata": {},
   "source": [
    "\n",
    "## 1. Random Choose Method to get optimal *k* and *b*"
   ]
  },
  {
   "cell_type": "code",
   "execution_count": 49,
   "metadata": {},
   "outputs": [
    {
     "name": "stdout",
     "output_type": "stream",
     "text": [
      "0 -73 -6 240836.8632961719\n",
      "1 44 -51 41849.02513318577\n",
      "2 -28 66 18278.759113138338\n",
      "7 3 -35 1558.003969610672\n",
      "31 13 -56 61.119023998023714\n",
      "13 -56 61.119023998023714\n"
     ]
    }
   ],
   "source": [
    "best_loss = np.inf\n",
    "best_k = best_b = 0\n",
    "for i in range(100):\n",
    "    random_k = random.randint(-100,100)\n",
    "    random_b = random.randint(-100,100)\n",
    "    y_estimate = feature*random_k + random_b\n",
    "    loss = get_loss(y,y_estimate)\n",
    "    if loss < best_loss:\n",
    "        best_loss = loss\n",
    "        best_k,best_b = random_k, random_b\n",
    "        print(i,random_k,random_b,loss)\n",
    "print(best_k,best_b,best_loss)"
   ]
  },
  {
   "cell_type": "markdown",
   "metadata": {},
   "source": [
    "## 2.Supervised Direction to get optimal *k* and *b*"
   ]
  },
  {
   "cell_type": "code",
   "execution_count": 150,
   "metadata": {},
   "outputs": [
    {
     "data": {
      "text/plain": [
       "[-1, 1]"
      ]
     },
     "execution_count": 150,
     "metadata": {},
     "output_type": "execute_result"
    }
   ],
   "source": [
    "random.sample([-1,1],)"
   ]
  },
  {
   "cell_type": "code",
   "execution_count": 178,
   "metadata": {},
   "outputs": [
    {
     "name": "stdout",
     "output_type": "stream",
     "text": [
      "0 times: -36.5 90.5 27125.23568550543\n",
      "2 times: -36.0 90.0 26256.816710102765\n",
      "3 times: -35.5 90.5 25091.33310846196\n",
      "5 times: -35.0 90.0 24256.61882327075\n",
      "7 times: -34.5 90.5 23137.409180616105\n",
      "8 times: -34.0 91.0 22044.978834648224\n",
      "9 times: -33.5 90.5 21263.463901967883\n",
      "10 times: -33.0 91.0 20217.307514986165\n",
      "12 times: -32.5 91.5 19197.930424691203\n",
      "13 times: -32.0 91.0 18469.61484452174\n",
      "15 times: -31.5 90.5 17755.50929226433\n",
      "16 times: -31.0 90.0 17055.61376791897\n",
      "17 times: -30.5 89.5 16369.92827148567\n",
      "18 times: -30.0 89.0 15698.452802964426\n",
      "20 times: -29.5 89.5 14803.328320853261\n",
      "23 times: -29.0 89.0 14165.55754254348\n",
      "24 times: -28.5 89.5 13316.707019418478\n",
      "25 times: -28.0 90.0 12494.635792980238\n",
      "29 times: -27.5 90.5 11699.343863228756\n",
      "31 times: -27.0 90.0 11134.26709972925\n",
      "32 times: -26.5 90.5 10385.249128963935\n",
      "33 times: -26.0 91.0 9663.010454885374\n",
      "35 times: -25.5 91.5 8967.551077493577\n",
      "36 times: -25.0 91.0 8475.168328804346\n",
      "38 times: -24.5 90.5 7996.995608027174\n",
      "39 times: -24.0 91.0 7367.304851920949\n",
      "40 times: -23.5 91.5 6764.393392501482\n",
      "41 times: -23.0 92.0 6188.261229768775\n",
      "43 times: -22.5 91.5 5782.782523801878\n",
      "44 times: -22.0 92.0 5252.924320055336\n",
      "48 times: -21.5 91.5 4881.150304299901\n",
      "50 times: -21.0 91.0 4523.586316456522\n",
      "52 times: -20.5 90.5 4180.232356525197\n",
      "56 times: -20.0 90.0 3851.088424505929\n",
      "60 times: -19.5 89.5 3536.1545203987152\n",
      "61 times: -19.0 89.0 3235.430644203557\n",
      "69 times: -18.5 88.5 2948.9167959204547\n",
      "70 times: -18.0 88.0 2676.6129755494076\n",
      "73 times: -17.5 88.5 2329.4913668848812\n",
      "75 times: -17.0 89.0 2009.1490549071145\n",
      "77 times: -16.5 89.5 1715.5860396161067\n",
      "78 times: -16.0 89.0 1515.976234055336\n",
      "81 times: -15.5 88.5 1330.5764564066205\n",
      "83 times: -15.0 88.0 1159.3867066699606\n",
      "88 times: -14.5 87.5 1002.4069848453557\n",
      "90 times: -14.0 88.0 813.6019154387352\n",
      "91 times: -13.5 87.5 690.3268838255929\n",
      "92 times: -13.0 87.0 581.2618801245059\n",
      "96 times: -12.5 87.5 458.22543200345854\n",
      "97 times: -12.0 88.0 361.96828056916996\n",
      "98 times: -11.5 88.5 292.4904258216403\n",
      "99 times: -11.0 88.0 256.11943693083003\n",
      "102 times: -10.5 88.5 232.9155411694664\n",
      "103 times: -10.0 88.0 230.24924249011858\n",
      "best: -10.0 88.0 230.24924249011858\n"
     ]
    }
   ],
   "source": [
    "best_loss = np.inf\n",
    "best_k , best_b = random.randint(-100,100),random.randint(-100,100)\n",
    "alpha = 0.5\n",
    "for i in range(1000):\n",
    "    dir_k, dir_b = random.sample([-1,1],1)[0], random.sample([-1,1],1)[0]\n",
    "    curr_k, curr_b = best_k+dir_k*alpha, best_b+dir_b*alpha\n",
    "    y_estimate = curr_k*feature + curr_b\n",
    "    loss = get_loss(y,y_estimate)\n",
    "    if loss < best_loss:\n",
    "        best_loss = loss\n",
    "        best_k,best_b = curr_k, curr_b\n",
    "        print('{} times:'.format(i),best_k,best_b,best_loss)\n",
    "print('best:',best_k,best_b,best_loss)"
   ]
  },
  {
   "cell_type": "markdown",
   "metadata": {},
   "source": [
    "## 3.Gradient Descent to get optimal *k* and *b*"
   ]
  },
  {
   "cell_type": "markdown",
   "metadata": {},
   "source": [
    "求损失函数的导数\n",
    "1/m * np.sum(y-y_es)*xj\n",
    "\n",
    "\n",
    "$$  -\\frac { 1 }{ m } \\sum _{ i=1 }^{ m }{ ({ y }_{ i }-\\hat { { y }_{ i } } ){ x }_{ i } }   $$\n",
    "\n",
    "更新后权重为\n",
    "\n",
    "$$ { \\theta  }^{ ' }\\quad =\\quad \\theta +\\frac { 1 }{ m } \\sum _{ i=1 }^{ m }{ ({ y }_{ i }-\\hat { { y }_{ i } } ){ x }_{ i } }  $$"
   ]
  },
  {
   "cell_type": "code",
   "execution_count": 167,
   "metadata": {},
   "outputs": [],
   "source": [
    "def get_loss(feature,k,b,y):\n",
    "    m = y.shape[0]\n",
    "    y_hat = k*feature+b\n",
    "    return np.sum(np.square(y_hat-y))/(2*m)"
   ]
  },
  {
   "cell_type": "code",
   "execution_count": 645,
   "metadata": {},
   "outputs": [
    {
     "name": "stdout",
     "output_type": "stream",
     "text": [
      "l0ss:111600.58117046244,  k:-58,  b:-83\n",
      "l0ss:3663.308833342655,  k:1.7420099180237116,  b:-73.59916798418972\n",
      "l0ss:148.4745682081463,  k:12.521551456973265,  b:-71.8954864067021\n",
      "l0ss:34.01488198093057,  k:14.465620966834187,  b:-71.58078800947563\n",
      "l0ss:30.28376788284216,  k:14.815294655868307,  b:-71.51673890205517\n",
      "l0ss:30.15838090546375,  k:14.877253547353947,  b:-71.49792220259224\n",
      "l0ss:30.15041139422583,  k:14.887293432841522,  b:-71.48726961671922\n",
      "l0ss:30.14626729191228,  k:14.887964601385312,  b:-71.47809202275526\n",
      "l0ss:30.142249626879742,  k:14.886945421941558,  b:-71.46918234164879\n",
      "l0ss:30.138237946252616,  k:14.885621486684576,  b:-71.46032275076087\n",
      "l0ss:30.134228326749046,  k:14.884242831171338,  b:-71.45147394270984\n",
      "l0ss:30.130220639715272,  k:14.882854575247386,  b:-71.44262882390291\n",
      "l0ss:30.126214880064808,  k:14.88146486090253,  b:-71.43378611385374\n",
      "l0ss:30.122211046735448,  k:14.880075157325349,  b:-71.42494558107435\n",
      "l0ss:30.11820913879643,  k:14.878685729570892,  b:-71.41610718337277\n",
      "l0ss:30.114209155321724,  k:14.877296625403536,  b:-71.40727091271633\n",
      "l0ss:30.110211095385864,  k:14.875907853376711,  b:-71.39843676723666\n",
      "l0ss:30.106214958063866,  k:14.874519414968088,  b:-71.38960474617787\n",
      "l0ss:30.102220742431154,  k:14.873131310378504,  b:-71.3807748489849\n",
      "l0ss:30.098228447563606,  k:14.871743539578405,  b:-71.37194707513905\n",
      "l0ss:30.094238072537582,  k:14.870356102496677,  b:-71.36312142412828\n",
      "l0ss:30.090249616429833,  k:14.868968999054722,  b:-71.35429789544185\n",
      "l0ss:30.08626307831757,  k:14.867582229172605,  b:-71.34547648856933\n",
      "l0ss:30.082278457278466,  k:14.866195792770169,  b:-71.3366572030005\n",
      "l0ss:30.078295752390634,  k:14.86480968976723,  b:-71.32784003822523\n",
      "l0ss:30.07431496273262,  k:14.863423920083617,  b:-71.31902499373354\n",
      "l0ss:30.07033608738339,  k:14.862038483639177,  b:-71.31021206901553\n",
      "l0ss:30.066359125422405,  k:14.860653380353774,  b:-71.3014012635615\n",
      "l0ss:30.062384075929533,  k:14.859268610147295,  b:-71.2925925768618\n",
      "l0ss:30.0584109379851,  k:14.85788417293964,  b:-71.28378600840692\n",
      "l0ss:30.054439710669865,  k:14.856500068650735,  b:-71.2749815576875\n"
     ]
    }
   ],
   "source": [
    "curr_k , curr_b = random.randint(-100,100), random.randint(-100,100)\n",
    "alpha = 0.02\n",
    "m = feature.shape[0]\n",
    "\n",
    "loss = get_loss(feature,curr_k, curr_b, y)\n",
    "print('l0ss:{},  k:{},  b:{}'.format(loss,curr_k,curr_b,))\n",
    "\n",
    "for i in range(30):\n",
    "    y_hat = curr_k*feature + curr_b\n",
    "    error = y - y_hat\n",
    "    curr_k = curr_k + alpha*np.sum(error*feature)/m\n",
    "\n",
    "    curr_b = curr_b + alpha*np.sum(error)/m\n",
    "    loss = get_loss(feature,curr_k,curr_b,y)\n",
    "    print('l0ss:{},  k:{},  b:{}'.format(loss,curr_k,curr_b,))\n"
   ]
  },
  {
   "cell_type": "markdown",
   "metadata": {},
   "source": [
    "## 4. Try different Loss function and learning rate. "
   ]
  },
  {
   "cell_type": "markdown",
   "metadata": {},
   "source": [
    "1) 假如 损失函数为 $Loss = \\frac{1}{n} sum(|{y_i - \\hat{y_i}}|)$："
   ]
  },
  {
   "cell_type": "code",
   "execution_count": 169,
   "metadata": {},
   "outputs": [],
   "source": [
    "def get_loss(feature,k,b,y):\n",
    "    m = y.shape[0]\n",
    "    y_hat = k*feature+b\n",
    "    return np.sum(np.abs(y-y_hat))/m"
   ]
  },
  {
   "cell_type": "markdown",
   "metadata": {},
   "source": [
    "- 当 y-kx-b >=0 k,b 的偏导数为: -x -1\n",
    "- y-kx-b <0   k,b 的偏导数为:  x 1"
   ]
  },
  {
   "cell_type": "code",
   "execution_count": 189,
   "metadata": {},
   "outputs": [
    {
     "name": "stdout",
     "output_type": "stream",
     "text": [
      "l0ss:109.64866600790515,  k:-25,  b:70\n",
      "l0ss:105.5990030696367,  k:-24.371536561264822,  b:70.1\n",
      "l0ss:101.54934013136825,  k:-23.743073122529644,  b:70.19999999999999\n",
      "l0ss:97.49967719309981,  k:-23.114609683794466,  b:70.29999999999998\n",
      "l0ss:93.45001425483137,  k:-22.486146245059288,  b:70.39999999999998\n",
      "l0ss:89.40035131656292,  k:-21.85768280632411,  b:70.49999999999997\n",
      "l0ss:85.35068837829449,  k:-21.229219367588932,  b:70.59999999999997\n",
      "l0ss:81.30102544002605,  k:-20.600755928853754,  b:70.69999999999996\n",
      "l0ss:77.2513625017576,  k:-19.972292490118576,  b:70.79999999999995\n",
      "l0ss:73.20169956348916,  k:-19.3438290513834,  b:70.89999999999995\n",
      "l0ss:69.15203662522073,  k:-18.71536561264822,  b:70.99999999999994\n",
      "l0ss:65.10237368695228,  k:-18.086902173913042,  b:71.09999999999994\n",
      "l0ss:61.05271074868385,  k:-17.458438735177864,  b:71.19999999999993\n",
      "l0ss:57.003047810415396,  k:-16.829975296442687,  b:71.29999999999993\n",
      "l0ss:52.953384872146955,  k:-16.20151185770751,  b:71.39999999999992\n",
      "l0ss:48.90372193387851,  k:-15.57304841897233,  b:71.49999999999991\n",
      "l0ss:44.854058995610075,  k:-14.944584980237153,  b:71.59999999999991\n",
      "l0ss:40.80808189497774,  k:-14.316121541501975,  b:71.6999999999999\n",
      "l0ss:36.83050923870089,  k:-13.69280632411067,  b:71.79881422924892\n",
      "l0ss:32.87112390323829,  k:-13.071126679841894,  b:71.89723320158093\n",
      "l0ss:28.95200134086854,  k:-12.451285770750985,  b:71.99525691699596\n",
      "l0ss:25.172478792874895,  k:-11.840297430830036,  b:72.091304347826\n",
      "l0ss:21.581765478050023,  k:-11.24367193675889,  b:72.18458498023706\n",
      "l0ss:18.276790866168486,  k:-10.66982193675889,  b:72.27351778656117\n",
      "l0ss:15.332079896071692,  k:-10.122391699604739,  b:72.35770750988134\n",
      "l0ss:12.928924232413058,  k:-9.617964229249008,  b:72.43438735177857\n",
      "l0ss:11.317162087558032,  k:-9.193972332015807,  b:72.49723320158094\n",
      "l0ss:10.433930286235155,  k:-8.867842885375492,  b:72.54387351778648\n",
      "l0ss:10.090168878010912,  k:-8.66241422924901,  b:72.57035573122522\n",
      "l0ss:9.955482294211363,  k:-8.52920889328063,  b:72.58498023715407\n",
      "l0ss:9.922934145814649,  k:-8.464321343873516,  b:72.58853754940704\n",
      "l0ss:9.908862493436468,  k:-8.42593537549407,  b:72.58774703557305\n",
      "l0ss:9.901485296824662,  k:-8.397394861660079,  b:72.58537549407107\n",
      "l0ss:9.896147866461353,  k:-8.373813636363636,  b:72.58221343873511\n",
      "l0ss:9.893843833300002,  k:-8.357863241106719,  b:72.57786561264815\n",
      "l0ss:9.89233384901615,  k:-8.346700988142292,  b:72.5727272727272\n",
      "l0ss:9.891083491783183,  k:-8.335538735177865,  b:72.56758893280626\n",
      "l0ss:9.890456912810306,  k:-8.329363438735177,  b:72.56166007905132\n",
      "l0ss:9.889910322436684,  k:-8.325533992094861,  b:72.55533596837938\n",
      "l0ss:9.889363732063066,  k:-8.321704545454546,  b:72.54901185770744\n",
      "l0ss:9.888859311759278,  k:-8.31787509881423,  b:72.5426877470355\n",
      "l0ss:9.888386730400017,  k:-8.316423122529645,  b:72.53596837944657\n",
      "l0ss:9.887914149040757,  k:-8.31497114624506,  b:72.52924901185764\n",
      "l0ss:9.887441567681494,  k:-8.313519169960475,  b:72.52252964426872\n",
      "l0ss:9.886968986322232,  k:-8.31206719367589,  b:72.51581027667979\n",
      "l0ss:9.886496404962969,  k:-8.310615217391305,  b:72.50909090909086\n",
      "l0ss:9.88602382360371,  k:-8.30916324110672,  b:72.50237154150193\n",
      "l0ss:9.885551242244448,  k:-8.307711264822135,  b:72.495652173913\n",
      "l0ss:9.885078660885185,  k:-8.30625928853755,  b:72.48893280632407\n",
      "l0ss:9.884606079525925,  k:-8.304807312252965,  b:72.48221343873514\n",
      "l0ss:9.884133725833083,  k:-8.30335533596838,  b:72.47549407114622\n",
      "l0ss:9.883672562809524,  k:-8.304534584980237,  b:72.46837944664028\n",
      "l0ss:9.883199981450263,  k:-8.303082608695652,  b:72.46166007905136\n",
      "l0ss:9.882727400091001,  k:-8.301630632411067,  b:72.45494071146243\n",
      "l0ss:9.88225481873174,  k:-8.300178656126482,  b:72.4482213438735\n",
      "l0ss:9.881782237372477,  k:-8.298726679841897,  b:72.44150197628457\n",
      "l0ss:9.881309656013217,  k:-8.297274703557312,  b:72.43478260869564\n",
      "l0ss:9.88084802858934,  k:-8.295822727272727,  b:72.42806324110671\n",
      "l0ss:9.880376139296816,  k:-8.297001976284584,  b:72.42094861660078\n",
      "l0ss:9.879903557937554,  k:-8.295549999999999,  b:72.41422924901185\n",
      "l0ss:9.879430976578293,  k:-8.294098023715414,  b:72.40750988142292\n",
      "l0ss:9.878958395219033,  k:-8.292646047430829,  b:72.400790513834\n",
      "l0ss:9.878485813859768,  k:-8.291194071146244,  b:72.39407114624507\n",
      "l0ss:9.878023266702728,  k:-8.289742094861658,  b:72.38735177865614\n",
      "l0ss:9.877552297143371,  k:-8.290921343873515,  b:72.38023715415021\n",
      "l0ss:9.877079715784111,  k:-8.28946936758893,  b:72.37351778656128\n",
      "l0ss:9.876607134424846,  k:-8.288017391304345,  b:72.36679841897235\n",
      "l0ss:9.876134553065587,  k:-8.28656541501976,  b:72.36007905138342\n",
      "l0ss:9.875661971706323,  k:-8.285113438735175,  b:72.3533596837945\n",
      "l0ss:9.87519850481612,  k:-8.28366146245059,  b:72.34664031620557\n",
      "l0ss:9.874728454989926,  k:-8.284840711462447,  b:72.33952569169963\n",
      "l0ss:9.874255873630663,  k:-8.283388735177862,  b:72.3328063241107\n",
      "l0ss:9.873783292271403,  k:-8.281936758893277,  b:72.32608695652178\n",
      "l0ss:9.87331071091214,  k:-8.280484782608692,  b:72.31936758893285\n",
      "l0ss:9.872838129552878,  k:-8.279032806324107,  b:72.31264822134392\n",
      "l0ss:9.872373742929515,  k:-8.277580830039522,  b:72.30592885375499\n",
      "l0ss:9.87190461283648,  k:-8.278760079051379,  b:72.29881422924906\n",
      "l0ss:9.871432031477216,  k:-8.277308102766794,  b:72.29209486166013\n",
      "l0ss:9.870959450117955,  k:-8.275856126482209,  b:72.2853754940712\n",
      "l0ss:9.870486868758695,  k:-8.274404150197624,  b:72.27865612648228\n",
      "l0ss:9.870014287399433,  k:-8.272952173913039,  b:72.27193675889335\n",
      "l0ss:9.869548981042907,  k:-8.271500197628454,  b:72.26521739130442\n",
      "l0ss:9.869088929199803,  k:-8.27267944664031,  b:72.25810276679849\n",
      "l0ss:9.868624117926,  k:-8.268849999999995,  b:72.25177865612655\n",
      "l0ss:9.868139292426068,  k:-8.270029249011852,  b:72.24466403162062\n",
      "l0ss:9.867666711066807,  k:-8.268577272727267,  b:72.23794466403169\n",
      "l0ss:9.867194129707546,  k:-8.267125296442682,  b:72.23122529644276\n",
      "l0ss:9.866721548348284,  k:-8.265673320158097,  b:72.22450592885383\n",
      "l0ss:9.866260291396529,  k:-8.264221343873512,  b:72.2177865612649\n",
      "l0ss:9.865810611194915,  k:-8.265400592885369,  b:72.21067193675897\n",
      "l0ss:9.865335428279622,  k:-8.261571146245053,  b:72.20434782608703\n",
      "l0ss:9.864859242805313,  k:-8.26275039525691,  b:72.1972332015811\n",
      "l0ss:9.864410565162716,  k:-8.258920948616595,  b:72.19090909090916\n",
      "l0ss:9.863907874415712,  k:-8.260100197628452,  b:72.18379446640323\n",
      "l0ss:9.86348570204581,  k:-8.256270750988136,  b:72.17747035573129\n",
      "l0ss:9.862965616944889,  k:-8.257449999999993,  b:72.17035573122536\n",
      "l0ss:9.862551728010128,  k:-8.25862924901185,  b:72.16324110671943\n",
      "l0ss:9.862040753827982,  k:-8.254799802371535,  b:72.15691699604749\n",
      "l0ss:9.861600359620526,  k:-8.255979051383392,  b:72.14980237154155\n",
      "l0ss:9.861115890711075,  k:-8.252149604743076,  b:72.14347826086961\n",
      "l0ss:9.86064899123092,  k:-8.253328853754933,  b:72.13636363636368\n"
     ]
    }
   ],
   "source": [
    "curr_k , curr_b = random.randint(-100,100), random.randint(-100,100)\n",
    "alpha = 0.1\n",
    "m = feature.shape[0]\n",
    "\n",
    "loss = get_loss(feature,curr_k, curr_b, y)\n",
    "print('l0ss:{},  k:{},  b:{}'.format(loss,curr_k,curr_b,))\n",
    "\n",
    "for i in range(100):\n",
    "    y_hat = curr_k*feature + curr_b\n",
    "    error = y - y_hat\n",
    "    gte0 = error>=0\n",
    "    direction = np.ones_like(error)\n",
    "    direction[gte0] = -1\n",
    "    derivative_k = np.sum(feature*direction)/m \n",
    "    curr_k = curr_k - alpha*derivative_k\n",
    "    derivative_b = np.sum(direction)/m\n",
    "    curr_b = curr_b - alpha*derivative_b\n",
    "    loss = get_loss(feature,curr_k,curr_b,y)\n",
    "    print('l0ss:{},  k:{},  b:{}'.format(loss,curr_k,curr_b,))\n"
   ]
  },
  {
   "cell_type": "markdown",
   "metadata": {},
   "source": [
    "## 2. Answer following questions:\n",
    "\n",
    "\n",
    "###### 1. Why do we need machine learning methods instead of creating a complicated formula?\n"
   ]
  },
  {
   "cell_type": "markdown",
   "metadata": {},
   "source": [
    "Ans: 因为复杂的公式不能很好的适应数据。也就是人为设定的规则效果很差，而从数据中学到的方法能够适应数据变化"
   ]
  },
  {
   "cell_type": "markdown",
   "metadata": {},
   "source": [
    "###### 2.  Wha't's the disadvantages of `the 1st Random Choosen` methods in our course? "
   ]
  },
  {
   "cell_type": "markdown",
   "metadata": {},
   "source": [
    "Ans: 要试验很多次才能发现找到最好的参数，得到最庸参数有一定盲目性而且不知道是否是最优参数，另外在参数很多的情况下几乎计算量很大。"
   ]
  },
  {
   "cell_type": "markdown",
   "metadata": {},
   "source": [
    "###### 3. Is the `2nd method supervised direction` better than 1st one?  What's the disadvantages of `the 2nd supversied directin` method? "
   ]
  },
  {
   "cell_type": "markdown",
   "metadata": {},
   "source": [
    "Ans:是的，第二种方法实在当前参数的基础上随机增大或减少参数，来调整，他是以数据结果为导向。每一轮都是在尝试一小步的优化。\n",
    "缺点是优化方向依然具有一定的盲目性。"
   ]
  },
  {
   "cell_type": "markdown",
   "metadata": {},
   "source": [
    "###### 4. Why do we use `Derivative / Gredient` to fit a target function? "
   ]
  },
  {
   "cell_type": "markdown",
   "metadata": {},
   "source": [
    "Ans: 因为导数，梯度代表了待求解参数变化最快的方向，我们沿着这个导数的方向能最快的得到最优解。"
   ]
  },
  {
   "cell_type": "markdown",
   "metadata": {},
   "source": [
    "###### 5. In the words 'Gredient Descent', what's the `Gredient` and what's the `Descent`?"
   ]
  },
  {
   "cell_type": "markdown",
   "metadata": {},
   "source": [
    "Ans: 梯度，代表每个参数与之对应的偏导数方向，下降是指参数沿着偏导数方向一点一点的变化。"
   ]
  },
  {
   "cell_type": "markdown",
   "metadata": {},
   "source": [
    "###### 6. What's the advantages of `the 3rd gradient descent method` compared to the previous methods?"
   ]
  },
  {
   "cell_type": "markdown",
   "metadata": {},
   "source": [
    "Ans:快。效率高。有理论上的证明其最终求出的结果一定是局部最小值。"
   ]
  },
  {
   "cell_type": "markdown",
   "metadata": {},
   "source": [
    "###### 7. Using the simple words to describe: What's the machine leanring."
   ]
  },
  {
   "cell_type": "markdown",
   "metadata": {},
   "source": [
    "Ans: 从数据中总结中一个事物的规律，并用之于相应的任务中。"
   ]
  },
  {
   "cell_type": "markdown",
   "metadata": {},
   "source": [
    "## 3. Finish the search problem"
   ]
  },
  {
   "cell_type": "markdown",
   "metadata": {},
   "source": [
    "Please using the search policy to implement an agent. This agent receives two input, one is @param start station and the other is @param destination. Your agent should give the optimal route based on Beijing Subway system. "
   ]
  },
  {
   "cell_type": "markdown",
   "metadata": {},
   "source": [
    "> Deadline: 2019-July-13\n",
    "\n",
    ">Submit: Submit the source code and result to github. \n",
    "\n"
   ]
  },
  {
   "cell_type": "markdown",
   "metadata": {},
   "source": [
    "![](https://timgsa.baidu.com/timg?image&quality=80&size=b9999_10000&sec=1562414356407&di=b57814aafd215bb8b8d9d8cd37c573d6&imgtype=0&src=http%3A%2F%2Fcli.clewm.net%2Ffile%2F2015%2F03%2F24%2F174ed60082b8422ac0636cfd3efb9e7f.jpg)"
   ]
  },
  {
   "cell_type": "markdown",
   "metadata": {},
   "source": [
    "#### Dataflow: "
   ]
  },
  {
   "cell_type": "markdown",
   "metadata": {},
   "source": [
    "##### 1.\tGet data from web page.\n",
    "\n",
    "> a.\tGet web page source from: https://baike.baidu.com/item/%E5%8C%97%E4%BA%AC%E5%9C%B0%E9%93%81/408485\n",
    "\n",
    "> b.\tYou may need @package **requests**[https://2.python-requests.org/en/master/] page to get the response via url\n",
    "\n",
    "> c.\tYou may need save the page source to file system.\n",
    "\n",
    "> d.\tThe target of this step is to get station information of all the subway lines;\n",
    "\n",
    "> e.\tYou may need install @package beautiful soup[https://www.crummy.com/software/BeautifulSoup/bs4/doc/]  to get the url information, or just use > Regular Expression to get the url.  Our recommendation is that using the Regular Expression and BeautiflSoup both. \n",
    "\n",
    "> f.\tYou may need BFS to get all the related page url from one url. \n",
    "Question: Why do we use BFS to traverse web page (or someone said, build a web spider)?  Can DFS do this job? which is better? "
   ]
  },
  {
   "cell_type": "code",
   "execution_count": 234,
   "metadata": {},
   "outputs": [],
   "source": [
    "import requests\n",
    "from bs4 import BeautifulSoup\n",
    "import pandas as pd\n",
    "from collections import defaultdict\n",
    "metro_url = 'http://www.bjsubway.com/e/action/ListInfo/?classid=39&ph=1'\n",
    "\n",
    "resp = requests.get(metro_url)\n",
    "\n",
    "soup = BeautifulSoup(resp.text)\n",
    "\n",
    "lines = soup.find_all('div','line_place')\n",
    "\n",
    "raw_lines = [(line.td.text[:-6].strip(),[sta.th.text.strip() for sta in line.find('tbody').find_all('tr')]) for line in lines]"
   ]
  },
  {
   "cell_type": "code",
   "execution_count": 240,
   "metadata": {},
   "outputs": [],
   "source": [
    "tset = defaultdict(set)"
   ]
  },
  {
   "cell_type": "code",
   "execution_count": 249,
   "metadata": {},
   "outputs": [
    {
     "data": {
      "text/plain": [
       "defaultdict(set, {'q': {'dssd', 'sss'}})"
      ]
     },
     "execution_count": 249,
     "metadata": {},
     "output_type": "execute_result"
    }
   ],
   "source": [
    "tset['q'].add('sss')\n",
    "tset"
   ]
  },
  {
   "cell_type": "code",
   "execution_count": 250,
   "metadata": {},
   "outputs": [],
   "source": [
    "bj_graph = defaultdict(list)\n",
    "metro_belong = defaultdict(set)\n",
    "for name,line in raw_lines:\n",
    "    pre = None\n",
    "    for station in line:\n",
    "        metro_belong[station].add(name)\n",
    "        if pre is None:\n",
    "            pre = station\n",
    "        else:\n",
    "            bj_graph[pre].append(station)\n",
    "            bj_graph[station].append(pre)\n",
    "            pre = station"
   ]
  },
  {
   "cell_type": "code",
   "execution_count": 210,
   "metadata": {},
   "outputs": [],
   "source": [
    "line0 = lines[0]"
   ]
  },
  {
   "cell_type": "code",
   "execution_count": 221,
   "metadata": {},
   "outputs": [],
   "source": [
    "import pickle"
   ]
  },
  {
   "cell_type": "code",
   "execution_count": 252,
   "metadata": {},
   "outputs": [],
   "source": [
    "with open('metro_belong.data','wb') as f:\n",
    "    pickle.dump(metro_belong,f)"
   ]
  },
  {
   "cell_type": "code",
   "execution_count": 220,
   "metadata": {},
   "outputs": [
    {
     "data": {
      "text/plain": [
       "['1号线',\n",
       " '2号线',\n",
       " '4号线/大兴线',\n",
       " '5号线',\n",
       " '6号线',\n",
       " '7号线',\n",
       " '8号线（北段）',\n",
       " '9号线',\n",
       " '10号线',\n",
       " '13号线',\n",
       " '14号线（西段）',\n",
       " '15号线',\n",
       " '16号线',\n",
       " '八通线',\n",
       " '昌平线',\n",
       " '亦庄线',\n",
       " '4号线/大兴线',\n",
       " '房山线',\n",
       " 'S1线',\n",
       " '燕房线']"
      ]
     },
     "execution_count": 220,
     "metadata": {},
     "output_type": "execute_result"
    }
   ],
   "source": [
    "[line.td.text[:-6].strip() for line in lines]"
   ]
  },
  {
   "cell_type": "markdown",
   "metadata": {},
   "source": [
    "##### 2.\tPreprocessing data from page source.\n",
    "\n",
    "> a.\tBased on the page source gotten from url. You may need some more preprocessing of the page. \n",
    "\n",
    "> b.\tthe Regular Expression you may need to process the text information.\n",
    "\n",
    "> c.\tYou may need @package networkx, @package matplotlib to visualize data. \n",
    "\n",
    "> d.\tYou should build a dictionary or graph which could represent the connection information of Beijing subway routes. \n",
    "\n",
    "> e.\tYou may need the defaultdict, set data structures to implement this procedure. "
   ]
  },
  {
   "cell_type": "code",
   "execution_count": 3,
   "metadata": {},
   "outputs": [],
   "source": [
    "import networkx as nx"
   ]
  },
  {
   "cell_type": "code",
   "execution_count": 18,
   "metadata": {},
   "outputs": [],
   "source": [
    "city_graph = nx.Graph(bj_graph)"
   ]
  },
  {
   "cell_type": "code",
   "execution_count": 12,
   "metadata": {},
   "outputs": [],
   "source": [
    "nodes_for_graph  = {}\n",
    "for k,v in bj_graph.items():\n",
    "    for stat in v:\n",
    "        a,b =(k,stat) if k>stat else (stat,k)\n",
    "        nodes_for_graph[a] = b\n",
    "        "
   ]
  },
  {
   "cell_type": "code",
   "execution_count": 136,
   "metadata": {},
   "outputs": [],
   "source": [
    "%matplotlib inline"
   ]
  },
  {
   "cell_type": "code",
   "execution_count": 137,
   "metadata": {},
   "outputs": [
    {
     "data": {
      "text/plain": [
       "<Figure size 2160x1152 with 0 Axes>"
      ]
     },
     "execution_count": 137,
     "metadata": {},
     "output_type": "execute_result"
    },
    {
     "data": {
      "text/plain": [
       "<Figure size 2160x1152 with 0 Axes>"
      ]
     },
     "metadata": {},
     "output_type": "display_data"
    }
   ],
   "source": [
    "plt.figure(figsize=(30,16))"
   ]
  },
  {
   "cell_type": "code",
   "execution_count": 140,
   "metadata": {},
   "outputs": [
    {
     "data": {
      "image/png": "[encoded data removed]",
      "text/plain": [
       "<Figure size 432x288 with 1 Axes>"
      ]
     },
     "metadata": {},
     "output_type": "display_data"
    }
   ],
   "source": [
    "nx.draw(city_graph, with_labels=True, node_size=7)"
   ]
  },
  {
   "cell_type": "code",
   "execution_count": 74,
   "metadata": {},
   "outputs": [],
   "source": [
    "import copy"
   ]
  },
  {
   "cell_type": "code",
   "execution_count": 190,
   "metadata": {},
   "outputs": [],
   "source": [
    "\n",
    "def search(source,target):\n",
    "    ret = dfs(source,target,[])\n",
    "    print(ret)\n",
    "def dfs(node,target,path):\n",
    "    new_path = copy.copy(path)+[node]\n",
    "    #print(node,target,path)\n",
    "    if node == target:\n",
    "        return new_path\n",
    "    edges = bj_graph[node]\n",
    "    #print(node,edges,end=',,')\n",
    "    is_visited[node] = True\n",
    "    option_route = []\n",
    "    for e in edges:\n",
    "        if e not in is_visited:\n",
    "            ret = dfs(e,target,new_path)\n",
    "            if ret != []:\n",
    "                option_route.append(ret)\n",
    "    if option_route == []:\n",
    "        return option_route\n",
    "    else:\n",
    "        return min(option_route,key=lambda x:len(x))        "
   ]
  },
  {
   "cell_type": "markdown",
   "metadata": {},
   "source": [
    "##### 3. Build the search agent\n",
    "\n",
    "> Build the search agent based on the graph we build.\n",
    "\n",
    "for example, when you run: \n",
    "\n",
    "```python\n",
    ">>> search('奥体中心', '天安门') \n",
    "```\n",
    "you need get the result: \n",
    "\n",
    "奥体中心-> A -> B -> C -> ... -> 天安门\n",
    "\n"
   ]
  },
  {
   "cell_type": "code",
   "execution_count": 162,
   "metadata": {},
   "outputs": [
    {
     "name": "stdout",
     "output_type": "stream",
     "text": [
      "['奥体中心', '奥林匹克公园', '森林公园南门', '林萃桥', '永泰庄', '西小口', '育新', '霍营', '回龙观东大街', '平西府', '育知路', '朱辛庄', '生命科学园', '西二旗', '上地', '五道口', '知春路', '知春里', '海淀黄庄', '人民大学', '魏公村', '国家图书馆', '动物园', '西直门', '积水潭', '鼓楼大街', '安定门', '雍和宫', '东直门', '东四十条', '朝阳门', '建国门', '东单', '王府井', '天安门东', '天安门西', '西单', '复兴门', '南礼士路', '木樨地', '军事博物馆', '公主坟']\n"
     ]
    }
   ],
   "source": [
    "is_visited = {}\n",
    "search('奥体中心', '公主坟')"
   ]
  },
  {
   "cell_type": "markdown",
   "metadata": {},
   "source": [
    "## （Optional）Create different policies for transfer system.\n"
   ]
  },
  {
   "cell_type": "markdown",
   "metadata": {},
   "source": [
    "以下部门为可选部分，请酌情完成。 并不要求全部同学完成。"
   ]
  },
  {
   "cell_type": "markdown",
   "metadata": {},
   "source": [
    "As much as you can to use the already implemented search agent. You just need to define the **is_goal()**, **get_successor()**, **strategy()** three functions. \n",
    "\n",
    "> a.\tDefine different policies for transfer system. \n",
    "\n",
    "> b.\tSuch as Shortest Path Priority（路程最短优先）, Minimum Transfer Priority(最少换乘优先), Comprehensive Priority(综合优先)\n",
    "\n",
    "> c.\tImplement Continuous transfer. Based on the Agent you implemented, please add this feature: Besides the @param start and @param destination two stations, add some more stations, we called @param by_way, it means, our path should from the start and end, but also include the  @param by_way stations. \n",
    "\n",
    "e.g \n",
    "```\n",
    "1. Input:  start=A,  destination=B, by_way=[C] \n",
    "    Output: [A, … .., C, …. B]\n",
    "2. Input: start=A, destination=B, by_way=[C, D, E]\n",
    "    Output: [A … C … E … D … B]  \n",
    "    # based on your policy, the E station could be reached firstly. \n",
    "![image.png](attachment:image.png)\n",
    "```"
   ]
  },
  {
   "cell_type": "code",
   "execution_count": 424,
   "metadata": {},
   "outputs": [],
   "source": [
    "def is_goal(station, target):\n",
    "    return station == target\n",
    "\n",
    "def get_successor(station):\n",
    "    return bj_graph[station]\n",
    "\n",
    "def strategy():\n",
    "    pass\n",
    "def bfs(start, target, strategy_func):\n",
    "    is_visited = {}\n",
    "    unprocessed = [[start]]\n",
    "    while unprocessed:\n",
    "        #print(unprocessed)\n",
    "        path = unprocessed.pop(0)\n",
    "        frontier = path[-1]\n",
    "        if frontier in is_visited:\n",
    "            continue\n",
    "        is_visited[frontier] = True\n",
    "        for station in bj_graph[frontier]:\n",
    "            if station not in is_visited:\n",
    "                new_path = path + [station]\n",
    "                unprocessed.append(new_path)\n",
    "                if station == target:\n",
    "                    return new_path\n",
    "        unprocessed = strategy_func(unprocessed)\n",
    "        \n",
    "def get_transfer_number(path):\n",
    "    if len(path) < 3:\n",
    "        return 0\n",
    "    trans_num = 0\n",
    "    last_line = (metro_belong[path[0]] & metro_belong[path[1]]).pop()\n",
    "    last_station = path[1]\n",
    "    for p in path[2:]:\n",
    "        current_line = (metro_belong[p] & metro_belong[last_station]).pop()\n",
    "        if current_line != last_line:\n",
    "            trans_num += 1\n",
    "        last_station = p\n",
    "        last_line = current_line\n",
    "    return trans_num\n",
    "\n",
    "def Shortest_Path_Priority(path):\n",
    "    return sorted(path,key=len)\n",
    "\n",
    "def Minimum_Transfer_Priority(pathes):\n",
    "    return sorted(pathes,key=get_transfer_number)\n",
    "        \n",
    "def Comprehensive_Priority(pathes):\n",
    "    def get_weight(path):\n",
    "        trans_num = get_transfer_number(path)\n",
    "        route_len = len(path)\n",
    "        trans_weight = df_transfer.iloc[trans_num][0] if trans_num in df_transfer.index else 1\n",
    "        length_weight = df_length.iloc[trans_num][0] if route_len in df_length.index else 1\n",
    "        return trans_weight+length_weight\n",
    "    return sorted(pathes,key=get_weight)"
   ]
  },
  {
   "cell_type": "code",
   "execution_count": 413,
   "metadata": {},
   "outputs": [],
   "source": [
    "from itertools import  combinations\n",
    "from collections import Counter\n",
    "import random"
   ]
  },
  {
   "cell_type": "markdown",
   "metadata": {},
   "source": [
    "## 统计乘车长度和换成次数"
   ]
  },
  {
   "cell_type": "code",
   "execution_count": null,
   "metadata": {},
   "outputs": [],
   "source": [
    "route_length = []\n",
    "\n",
    "for s,t in combinations(bj_graph.keys(),2):\n",
    "    ret = bfs(s,t,Shortest_Path_Priority)\n",
    "    route_length.append(len(ret))\n",
    "\n",
    "total_len = len(route_length)\n",
    "\n",
    "df_length = pd.DataFrame({k:[v/total_len] for k,v in Counter(route_length).items()}).T.cumsum()\n",
    "\n",
    "route_transfer = []\n",
    "cnt = 0\n",
    "all_station = bj_graph.keys()\n",
    "len_stat = len(all_station)\n",
    "for i in range(3000):\n",
    "    s,t = random.sample(bj_graph.keys(),2)\n",
    "    \n",
    "    ret = bfs(s,t,Minimum_Transfer_Priority)\n",
    "    trans_num = get_transfer_number(ret)\n",
    "    route_transfer.append(trans_num)\n",
    "    if cnt%1000 == 0:\n",
    "        print(cnt)\n",
    "    cnt += 1\n",
    "total_transfer = len(route_transfer)\n",
    "df_transfer = pd.DataFrame({k:[v/total_transfer] for k,v in Counter(route_transfer).items()}).T.cumsum()"
   ]
  },
  {
   "cell_type": "markdown",
   "metadata": {},
   "source": [
    "## 不同策略下的路线"
   ]
  },
  {
   "cell_type": "code",
   "execution_count": 428,
   "metadata": {},
   "outputs": [
    {
     "name": "stdout",
     "output_type": "stream",
     "text": [
      "魏公村-->国家图书馆-->动物园-->西直门-->积水潭-->鼓楼大街-->什刹海-->南锣鼓巷-->东四-->朝阳门-->建国门-->永安里-->国贸-->大望路-->四惠-->四惠东-->高碑店-->传媒大学\n"
     ]
    }
   ],
   "source": [
    "ret = bfs('魏公村','传媒大学',Shortest_Path_Priority)\n",
    "print('-->'.join(ret))"
   ]
  },
  {
   "cell_type": "code",
   "execution_count": 429,
   "metadata": {},
   "outputs": [
    {
     "name": "stdout",
     "output_type": "stream",
     "text": [
      "魏公村-->国家图书馆-->动物园-->西直门-->新街口-->平安里-->西四-->灵境胡同-->西单-->天安门西-->天安门东-->王府井-->东单-->建国门-->永安里-->国贸-->大望路-->四惠-->四惠东-->高碑店-->传媒大学\n"
     ]
    }
   ],
   "source": [
    "ret = bfs('魏公村','传媒大学',Minimum_Transfer_Priority)\n",
    "print('-->'.join(ret))"
   ]
  },
  {
   "cell_type": "code",
   "execution_count": 430,
   "metadata": {},
   "outputs": [
    {
     "name": "stdout",
     "output_type": "stream",
     "text": [
      "魏公村-->国家图书馆-->动物园-->西直门-->新街口-->平安里-->西四-->灵境胡同-->西单-->天安门西-->天安门东-->王府井-->东单-->建国门-->永安里-->国贸-->大望路-->四惠-->四惠东-->高碑店-->传媒大学\n"
     ]
    }
   ],
   "source": [
    "ret = bfs('魏公村','传媒大学',Comprehensive_Priority)\n",
    "print('-->'.join(ret))"
   ]
  },
  {
   "cell_type": "markdown",
   "metadata": {},
   "source": [
    "## 增加 by_way 参数"
   ]
  },
  {
   "cell_type": "markdown",
   "metadata": {},
   "source": [
    "改动原理的原理是 ：<br>\n",
    "  首先 用BFS 搜索 by_way中的值，<br>\n",
    "  当搜索到by_way 中的值的时候，就把 当前path路径 设为 unprocessed继续搜索下一个By_way中的值，<br>\n",
    "  如此直到by_way中所有站点都遍历到了，<br>"
   ]
  },
  {
   "cell_type": "code",
   "execution_count": 548,
   "metadata": {},
   "outputs": [],
   "source": [
    "def bfs_byway(start, target,by_way,can_repeate=False,strategy_func=lambda x:x):\n",
    "    by_way = set(by_way)\n",
    "    is_visited = {}\n",
    "    unprocessed = [[start]]\n",
    "    while unprocessed:\n",
    "        #print(unprocessed)\n",
    "        path = unprocessed.pop(0)\n",
    "        frontier = path[-1]\n",
    "        if frontier in is_visited:\n",
    "            continue\n",
    "        is_visited[frontier] = True\n",
    "        for station in bj_graph[frontier]:\n",
    "            if station in is_visited: continue\n",
    "            new_path = path + [station]\n",
    "            if station in by_way:\n",
    "                print(station,new_path)\n",
    "                by_way.remove(station)\n",
    "                unprocessed = [new_path]\n",
    "                break\n",
    "            else:\n",
    "                if (station != target):\n",
    "                    unprocessed.append(new_path)\n",
    "            if (not by_way)&(station == target):\n",
    "                return new_path\n",
    "        unprocessed = strategy_func(unprocessed)\n",
    "        "
   ]
  },
  {
   "cell_type": "code",
   "execution_count": 556,
   "metadata": {},
   "outputs": [
    {
     "name": "stdout",
     "output_type": "stream",
     "text": [
      "泥洼 ['古城', '八角游乐园', '八宝山', '玉泉路', '五棵松', '万寿路', '公主坟', '莲花桥', '六里桥', '西局', '泥洼']\n",
      "北苑 ['古城', '八角游乐园', '八宝山', '玉泉路', '五棵松', '万寿路', '公主坟', '莲花桥', '六里桥', '西局', '泥洼', '丰台站', '首经贸', '纪家庙', '草桥', '角门西', '马家堡', '北京南站', '陶然亭', '菜市口', '宣武门', '和平门', '前门', '崇文门', '北京站', '建国门', '朝阳门', '东四十条', '东直门', '柳芳', '光熙门', '芍药居', '望京西', '北苑']\n"
     ]
    },
    {
     "data": {
      "text/plain": [
       "['古城',\n",
       " '八角游乐园',\n",
       " '八宝山',\n",
       " '玉泉路',\n",
       " '五棵松',\n",
       " '万寿路',\n",
       " '公主坟',\n",
       " '莲花桥',\n",
       " '六里桥',\n",
       " '西局',\n",
       " '泥洼',\n",
       " '丰台站',\n",
       " '首经贸',\n",
       " '纪家庙',\n",
       " '草桥',\n",
       " '角门西',\n",
       " '马家堡',\n",
       " '北京南站',\n",
       " '陶然亭',\n",
       " '菜市口',\n",
       " '宣武门',\n",
       " '和平门',\n",
       " '前门',\n",
       " '崇文门',\n",
       " '北京站',\n",
       " '建国门',\n",
       " '朝阳门',\n",
       " '东四十条',\n",
       " '东直门',\n",
       " '柳芳',\n",
       " '光熙门',\n",
       " '芍药居',\n",
       " '望京西',\n",
       " '北苑',\n",
       " '立水桥',\n",
       " '霍营',\n",
       " '回龙观',\n",
       " '龙泽',\n",
       " '西二旗',\n",
       " '上地',\n",
       " '五道口']"
      ]
     },
     "execution_count": 556,
     "metadata": {},
     "output_type": "execute_result"
    }
   ],
   "source": [
    "ret = bfs_byway('古城','五道口',by_way=['泥洼','北苑'])\n",
    "ret"
   ]
  },
  {
   "cell_type": "markdown",
   "metadata": {},
   "source": [
    "![](https://timgsa.baidu.com/timg?image&quality=80&size=b9999_10000&sec=1562414356407&di=b57814aafd215bb8b8d9d8cd37c573d6&imgtype=0&src=http%3A%2F%2Fcli.clewm.net%2Ffile%2F2015%2F03%2F24%2F174ed60082b8422ac0636cfd3efb9e7f.jpg)"
   ]
  },
  {
   "cell_type": "markdown",
   "metadata": {},
   "source": [
    "##### 5.\tTest your result with commercial applications. \n",
    "\n",
    "将你的结果和高德地图或者百度地图进行比较，如果有不同，请分析原因\n"
   ]
  },
  {
   "cell_type": "markdown",
   "metadata": {},
   "source": [
    "**不同的原因是 我们采用的BFS只是对每一次搜索，采用的是最优策略，但是总体未必是最优策略，百度地图的算法应该是采用的是Djstra之类的最优算法。另外，Comprehensive_Priority策略中，不同因素的权重和计算方式不同，也会导致不同的结果.**"
   ]
  },
  {
   "cell_type": "markdown",
   "metadata": {},
   "source": [
    "恭喜，完成本次课程，你对常用的人工智能方法以及有一定的了解了。基于规则的，基于概率模型的，基于搜索的，基于机器学习的。 可以说，我们现在通常见到的方法都能够归属到这几类方法中。 这就是**人工智能**，并没有很难是吧？ 继续加油！"
   ]
  },
  {
   "cell_type": "markdown",
   "metadata": {},
   "source": [
    "![](https://timgsa.baidu.com/timg?image&quality=80&size=b9999_10000&sec=1562415163815&di=4b29a2a863a8285212033760f288ed7a&imgtype=0&src=http%3A%2F%2F5b0988e595225.cdn.sohucs.com%2Fimages%2F20180710%2F8704194a1d7f46a383ddc29d40c9bca5.jpeg)"
   ]
  }
 ],
 "metadata": {
  "kernelspec": {
   "display_name": "Python 3",
   "language": "python",
   "name": "python3"
  },
  "language_info": {
   "codemirror_mode": {
    "name": "ipython",
    "version": 3
   },
   "file_extension": ".py",
   "mimetype": "text/x-python",
   "name": "python",
   "nbconvert_exporter": "python",
   "pygments_lexer": "ipython3",
   "version": "3.5.2"
  }
 },
 "nbformat": 4,
 "nbformat_minor": 2
}
