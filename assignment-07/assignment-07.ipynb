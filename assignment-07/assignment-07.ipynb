{
 "cells": [
  {
   "cell_type": "markdown",
   "metadata": {},
   "source": [
    "## Assignment-07 First Step of using machine learning and models."
   ]
  },
  {
   "cell_type": "markdown",
   "metadata": {},
   "source": [
    "![](https://github.com/Computing-Intelligence/jupyters_and_slides/raw/master/entrance-test/images/kkb-ai.png)"
   ]
  },
  {
   "cell_type": "code",
   "execution_count": 1,
   "metadata": {},
   "outputs": [],
   "source": [
    "fname = '/Users/gaominquan/Downloads/sqlResult_1558435 2.csv'"
   ]
  },
  {
   "cell_type": "code",
   "execution_count": 2,
   "metadata": {},
   "outputs": [],
   "source": [
    "import pandas as pd"
   ]
  },
  {
   "cell_type": "code",
   "execution_count": 3,
   "metadata": {},
   "outputs": [],
   "source": [
    "content = pd.read_csv(fname, encoding='gb18030')"
   ]
  },
  {
   "cell_type": "code",
   "execution_count": 4,
   "metadata": {},
   "outputs": [
    {
     "data": {
      "text/html": [
       "<div>\n",
       "<style scoped>\n",
       "    .dataframe tbody tr th:only-of-type {\n",
       "        vertical-align: middle;\n",
       "    }\n",
       "\n",
       "    .dataframe tbody tr th {\n",
       "        vertical-align: top;\n",
       "    }\n",
       "\n",
       "    .dataframe thead th {\n",
       "        text-align: right;\n",
       "    }\n",
       "</style>\n",
       "<table border=\"1\" class=\"dataframe\">\n",
       "  <thead>\n",
       "    <tr style=\"text-align: right;\">\n",
       "      <th></th>\n",
       "      <th>id</th>\n",
       "      <th>author</th>\n",
       "      <th>source</th>\n",
       "      <th>content</th>\n",
       "      <th>feature</th>\n",
       "      <th>title</th>\n",
       "      <th>url</th>\n",
       "    </tr>\n",
       "  </thead>\n",
       "  <tbody>\n",
       "    <tr>\n",
       "      <th>0</th>\n",
       "      <td>89617</td>\n",
       "      <td>NaN</td>\n",
       "      <td>快科技@http://www.kkj.cn/</td>\n",
       "      <td>此外，自本周（6月12日）起，除小米手机6等15款机型外，其余机型已暂停更新发布（含开发版/...</td>\n",
       "      <td>{\"type\":\"科技\",\"site\":\"cnbeta\",\"commentNum\":\"37\"...</td>\n",
       "      <td>小米MIUI 9首批机型曝光：共计15款</td>\n",
       "      <td>http://www.cnbeta.com/articles/tech/623597.htm</td>\n",
       "    </tr>\n",
       "    <tr>\n",
       "      <th>1</th>\n",
       "      <td>89616</td>\n",
       "      <td>NaN</td>\n",
       "      <td>快科技@http://www.kkj.cn/</td>\n",
       "      <td>骁龙835作为唯一通过Windows 10桌面平台认证的ARM处理器，高通强调，不会因为只考...</td>\n",
       "      <td>{\"type\":\"科技\",\"site\":\"cnbeta\",\"commentNum\":\"15\"...</td>\n",
       "      <td>骁龙835在Windows 10上的性能表现有望改善</td>\n",
       "      <td>http://www.cnbeta.com/articles/tech/623599.htm</td>\n",
       "    </tr>\n",
       "    <tr>\n",
       "      <th>2</th>\n",
       "      <td>89615</td>\n",
       "      <td>NaN</td>\n",
       "      <td>快科技@http://www.kkj.cn/</td>\n",
       "      <td>此前的一加3T搭载的是3400mAh电池，DashCharge快充规格为5V/4A。\\r\\n...</td>\n",
       "      <td>{\"type\":\"科技\",\"site\":\"cnbeta\",\"commentNum\":\"18\"...</td>\n",
       "      <td>一加手机5细节曝光：3300mAh、充半小时用1天</td>\n",
       "      <td>http://www.cnbeta.com/articles/tech/623601.htm</td>\n",
       "    </tr>\n",
       "    <tr>\n",
       "      <th>3</th>\n",
       "      <td>89614</td>\n",
       "      <td>NaN</td>\n",
       "      <td>新华社</td>\n",
       "      <td>这是6月18日在葡萄牙中部大佩德罗冈地区拍摄的被森林大火烧毁的汽车。新华社记者张立云摄\\r\\n</td>\n",
       "      <td>{\"type\":\"国际新闻\",\"site\":\"环球\",\"commentNum\":\"0\",\"j...</td>\n",
       "      <td>葡森林火灾造成至少62人死亡 政府宣布进入紧急状态（组图）</td>\n",
       "      <td>http://world.huanqiu.com/hot/2017-06/10866126....</td>\n",
       "    </tr>\n",
       "    <tr>\n",
       "      <th>4</th>\n",
       "      <td>89613</td>\n",
       "      <td>胡淑丽_MN7479</td>\n",
       "      <td>深圳大件事</td>\n",
       "      <td>（原标题：44岁女子跑深圳约会网友被拒，暴雨中裸身奔走……）\\r\\n@深圳交警微博称：昨日清...</td>\n",
       "      <td>{\"type\":\"新闻\",\"site\":\"网易热门\",\"commentNum\":\"978\",...</td>\n",
       "      <td>44岁女子约网友被拒暴雨中裸奔 交警为其披衣相随</td>\n",
       "      <td>http://news.163.com/17/0618/00/CN617P3Q0001875...</td>\n",
       "    </tr>\n",
       "  </tbody>\n",
       "</table>\n",
       "</div>"
      ],
      "text/plain": [
       "      id      author                  source  \\\n",
       "0  89617         NaN  快科技@http://www.kkj.cn/   \n",
       "1  89616         NaN  快科技@http://www.kkj.cn/   \n",
       "2  89615         NaN  快科技@http://www.kkj.cn/   \n",
       "3  89614         NaN                     新华社   \n",
       "4  89613  胡淑丽_MN7479                   深圳大件事   \n",
       "\n",
       "                                             content  \\\n",
       "0  此外，自本周（6月12日）起，除小米手机6等15款机型外，其余机型已暂停更新发布（含开发版/...   \n",
       "1  骁龙835作为唯一通过Windows 10桌面平台认证的ARM处理器，高通强调，不会因为只考...   \n",
       "2  此前的一加3T搭载的是3400mAh电池，DashCharge快充规格为5V/4A。\\r\\n...   \n",
       "3    这是6月18日在葡萄牙中部大佩德罗冈地区拍摄的被森林大火烧毁的汽车。新华社记者张立云摄\\r\\n   \n",
       "4  （原标题：44岁女子跑深圳约会网友被拒，暴雨中裸身奔走……）\\r\\n@深圳交警微博称：昨日清...   \n",
       "\n",
       "                                             feature  \\\n",
       "0  {\"type\":\"科技\",\"site\":\"cnbeta\",\"commentNum\":\"37\"...   \n",
       "1  {\"type\":\"科技\",\"site\":\"cnbeta\",\"commentNum\":\"15\"...   \n",
       "2  {\"type\":\"科技\",\"site\":\"cnbeta\",\"commentNum\":\"18\"...   \n",
       "3  {\"type\":\"国际新闻\",\"site\":\"环球\",\"commentNum\":\"0\",\"j...   \n",
       "4  {\"type\":\"新闻\",\"site\":\"网易热门\",\"commentNum\":\"978\",...   \n",
       "\n",
       "                           title  \\\n",
       "0           小米MIUI 9首批机型曝光：共计15款   \n",
       "1     骁龙835在Windows 10上的性能表现有望改善   \n",
       "2      一加手机5细节曝光：3300mAh、充半小时用1天   \n",
       "3  葡森林火灾造成至少62人死亡 政府宣布进入紧急状态（组图）   \n",
       "4       44岁女子约网友被拒暴雨中裸奔 交警为其披衣相随   \n",
       "\n",
       "                                                 url  \n",
       "0     http://www.cnbeta.com/articles/tech/623597.htm  \n",
       "1     http://www.cnbeta.com/articles/tech/623599.htm  \n",
       "2     http://www.cnbeta.com/articles/tech/623601.htm  \n",
       "3  http://world.huanqiu.com/hot/2017-06/10866126....  \n",
       "4  http://news.163.com/17/0618/00/CN617P3Q0001875...  "
      ]
     },
     "execution_count": 4,
     "metadata": {},
     "output_type": "execute_result"
    }
   ],
   "source": [
    "content.head()"
   ]
  },
  {
   "cell_type": "code",
   "execution_count": 5,
   "metadata": {},
   "outputs": [],
   "source": [
    "xinhua_news = content[content['source'] == '新华社']"
   ]
  },
  {
   "cell_type": "code",
   "execution_count": 6,
   "metadata": {},
   "outputs": [
    {
     "data": {
      "text/plain": [
       "0.8778051801676133"
      ]
     },
     "execution_count": 6,
     "metadata": {},
     "output_type": "execute_result"
    }
   ],
   "source": [
    "len(xinhua_news) / len(content)"
   ]
  },
  {
   "cell_type": "markdown",
   "metadata": {},
   "source": [
    "### 任务描述"
   ]
  },
  {
   "cell_type": "markdown",
   "metadata": {},
   "source": [
    "报社等相关的机构，往往会遇到一个问题，就是别人家的机构使用自己的文章但是并没有标明来源。 在本次任务中，我们将解决新华社的文章被抄袭引用的问题。"
   ]
  },
  {
   "cell_type": "markdown",
   "metadata": {},
   "source": [
    "给定的数据集合中，存在一些新闻预料，该语料是来自新华社，但是其来源并不是新华社，请设计技巧学习模型解决该问题。"
   ]
  },
  {
   "cell_type": "markdown",
   "metadata": {},
   "source": [
    "![](https://timgsa.baidu.com/timg?image&quality=80&size=b9999_10000&sec=1566105348906&di=ee9a2de91207767364853d4decc6cca3&imgtype=0&src=http%3A%2F%2Fmmbiz.qpic.cn%2Fmmbiz_png%2FTicO2kbP6Ao5sCsSQDpehZiczLdC6hDCNvoicjcOCEKX2bLxBc9gVOw28zHyFibfIWq9ceRibP6HDTKReGkr6YyTfQQ%2F640%3Fwx_fmt%3Dpng)"
   ]
  },
  {
   "cell_type": "code",
   "execution_count": 2,
   "metadata": {},
   "outputs": [],
   "source": [
    "import pandas as pd\n",
    "import numpy as np"
   ]
  },
  {
   "cell_type": "markdown",
   "metadata": {},
   "source": [
    "### Step1: 数据分析"
   ]
  },
  {
   "cell_type": "markdown",
   "metadata": {},
   "source": [
    "请在课程的GitHub中下载数据集，然后使用pandas进行读取。"
   ]
  },
  {
   "cell_type": "code",
   "execution_count": 4,
   "metadata": {},
   "outputs": [],
   "source": [
    "file_name = 'sqlResult_1558435.csv'\n",
    "\n",
    "df = pd.read_csv(file_name, encoding='gb18030')"
   ]
  },
  {
   "cell_type": "code",
   "execution_count": 6,
   "metadata": {},
   "outputs": [
    {
     "data": {
      "text/html": [
       "<div>\n",
       "<style scoped>\n",
       "    .dataframe tbody tr th:only-of-type {\n",
       "        vertical-align: middle;\n",
       "    }\n",
       "\n",
       "    .dataframe tbody tr th {\n",
       "        vertical-align: top;\n",
       "    }\n",
       "\n",
       "    .dataframe thead th {\n",
       "        text-align: right;\n",
       "    }\n",
       "</style>\n",
       "<table border=\"1\" class=\"dataframe\">\n",
       "  <thead>\n",
       "    <tr style=\"text-align: right;\">\n",
       "      <th></th>\n",
       "      <th>0</th>\n",
       "      <th>1</th>\n",
       "      <th>2</th>\n",
       "      <th>3</th>\n",
       "      <th>4</th>\n",
       "    </tr>\n",
       "  </thead>\n",
       "  <tbody>\n",
       "    <tr>\n",
       "      <th>id</th>\n",
       "      <td>89617</td>\n",
       "      <td>89616</td>\n",
       "      <td>89615</td>\n",
       "      <td>89614</td>\n",
       "      <td>89613</td>\n",
       "    </tr>\n",
       "    <tr>\n",
       "      <th>author</th>\n",
       "      <td>NaN</td>\n",
       "      <td>NaN</td>\n",
       "      <td>NaN</td>\n",
       "      <td>NaN</td>\n",
       "      <td>胡淑丽_MN7479</td>\n",
       "    </tr>\n",
       "    <tr>\n",
       "      <th>source</th>\n",
       "      <td>快科技@http://www.kkj.cn/</td>\n",
       "      <td>快科技@http://www.kkj.cn/</td>\n",
       "      <td>快科技@http://www.kkj.cn/</td>\n",
       "      <td>新华社</td>\n",
       "      <td>深圳大件事</td>\n",
       "    </tr>\n",
       "    <tr>\n",
       "      <th>content</th>\n",
       "      <td>此外，自本周（6月12日）起，除小米手机6等15款机型外，其余机型已暂停更新发布（含开发版/...</td>\n",
       "      <td>骁龙835作为唯一通过Windows 10桌面平台认证的ARM处理器，高通强调，不会因为只考...</td>\n",
       "      <td>此前的一加3T搭载的是3400mAh电池，DashCharge快充规格为5V/4A。\\r\\n...</td>\n",
       "      <td>这是6月18日在葡萄牙中部大佩德罗冈地区拍摄的被森林大火烧毁的汽车。新华社记者张立云摄\\r\\n</td>\n",
       "      <td>（原标题：44岁女子跑深圳约会网友被拒，暴雨中裸身奔走……）\\r\\n@深圳交警微博称：昨日清...</td>\n",
       "    </tr>\n",
       "    <tr>\n",
       "      <th>feature</th>\n",
       "      <td>{\"type\":\"科技\",\"site\":\"cnbeta\",\"commentNum\":\"37\"...</td>\n",
       "      <td>{\"type\":\"科技\",\"site\":\"cnbeta\",\"commentNum\":\"15\"...</td>\n",
       "      <td>{\"type\":\"科技\",\"site\":\"cnbeta\",\"commentNum\":\"18\"...</td>\n",
       "      <td>{\"type\":\"国际新闻\",\"site\":\"环球\",\"commentNum\":\"0\",\"j...</td>\n",
       "      <td>{\"type\":\"新闻\",\"site\":\"网易热门\",\"commentNum\":\"978\",...</td>\n",
       "    </tr>\n",
       "    <tr>\n",
       "      <th>title</th>\n",
       "      <td>小米MIUI 9首批机型曝光：共计15款</td>\n",
       "      <td>骁龙835在Windows 10上的性能表现有望改善</td>\n",
       "      <td>一加手机5细节曝光：3300mAh、充半小时用1天</td>\n",
       "      <td>葡森林火灾造成至少62人死亡 政府宣布进入紧急状态（组图）</td>\n",
       "      <td>44岁女子约网友被拒暴雨中裸奔 交警为其披衣相随</td>\n",
       "    </tr>\n",
       "    <tr>\n",
       "      <th>url</th>\n",
       "      <td>http://www.cnbeta.com/articles/tech/623597.htm</td>\n",
       "      <td>http://www.cnbeta.com/articles/tech/623599.htm</td>\n",
       "      <td>http://www.cnbeta.com/articles/tech/623601.htm</td>\n",
       "      <td>http://world.huanqiu.com/hot/2017-06/10866126....</td>\n",
       "      <td>http://news.163.com/17/0618/00/CN617P3Q0001875...</td>\n",
       "    </tr>\n",
       "  </tbody>\n",
       "</table>\n",
       "</div>"
      ],
      "text/plain": [
       "                                                         0  \\\n",
       "id                                                   89617   \n",
       "author                                                 NaN   \n",
       "source                              快科技@http://www.kkj.cn/   \n",
       "content  此外，自本周（6月12日）起，除小米手机6等15款机型外，其余机型已暂停更新发布（含开发版/...   \n",
       "feature  {\"type\":\"科技\",\"site\":\"cnbeta\",\"commentNum\":\"37\"...   \n",
       "title                                 小米MIUI 9首批机型曝光：共计15款   \n",
       "url         http://www.cnbeta.com/articles/tech/623597.htm   \n",
       "\n",
       "                                                         1  \\\n",
       "id                                                   89616   \n",
       "author                                                 NaN   \n",
       "source                              快科技@http://www.kkj.cn/   \n",
       "content  骁龙835作为唯一通过Windows 10桌面平台认证的ARM处理器，高通强调，不会因为只考...   \n",
       "feature  {\"type\":\"科技\",\"site\":\"cnbeta\",\"commentNum\":\"15\"...   \n",
       "title                           骁龙835在Windows 10上的性能表现有望改善   \n",
       "url         http://www.cnbeta.com/articles/tech/623599.htm   \n",
       "\n",
       "                                                         2  \\\n",
       "id                                                   89615   \n",
       "author                                                 NaN   \n",
       "source                              快科技@http://www.kkj.cn/   \n",
       "content  此前的一加3T搭载的是3400mAh电池，DashCharge快充规格为5V/4A。\\r\\n...   \n",
       "feature  {\"type\":\"科技\",\"site\":\"cnbeta\",\"commentNum\":\"18\"...   \n",
       "title                            一加手机5细节曝光：3300mAh、充半小时用1天   \n",
       "url         http://www.cnbeta.com/articles/tech/623601.htm   \n",
       "\n",
       "                                                         3  \\\n",
       "id                                                   89614   \n",
       "author                                                 NaN   \n",
       "source                                                 新华社   \n",
       "content    这是6月18日在葡萄牙中部大佩德罗冈地区拍摄的被森林大火烧毁的汽车。新华社记者张立云摄\\r\\n   \n",
       "feature  {\"type\":\"国际新闻\",\"site\":\"环球\",\"commentNum\":\"0\",\"j...   \n",
       "title                        葡森林火灾造成至少62人死亡 政府宣布进入紧急状态（组图）   \n",
       "url      http://world.huanqiu.com/hot/2017-06/10866126....   \n",
       "\n",
       "                                                         4  \n",
       "id                                                   89613  \n",
       "author                                          胡淑丽_MN7479  \n",
       "source                                               深圳大件事  \n",
       "content  （原标题：44岁女子跑深圳约会网友被拒，暴雨中裸身奔走……）\\r\\n@深圳交警微博称：昨日清...  \n",
       "feature  {\"type\":\"新闻\",\"site\":\"网易热门\",\"commentNum\":\"978\",...  \n",
       "title                             44岁女子约网友被拒暴雨中裸奔 交警为其披衣相随  \n",
       "url      http://news.163.com/17/0618/00/CN617P3Q0001875...  "
      ]
     },
     "execution_count": 6,
     "metadata": {},
     "output_type": "execute_result"
    }
   ],
   "source": [
    "df.head().T"
   ]
  },
  {
   "cell_type": "markdown",
   "metadata": {
    "slideshow": {
     "slide_type": "slide"
    }
   },
   "source": [
    "### Step2: 数据预处理"
   ]
  },
  {
   "cell_type": "markdown",
   "metadata": {},
   "source": [
    "将pandas中的数据，依据是否是新华社的文章，请改变成新的数据dataframe: <content, y>, 其中，content是文章内容，y是0或者1. 你可能要使用到pandas的dataframe操作。https://pandas.pydata.org/pandas-docs/stable/reference/api/pandas.DataFrame.apply.html"
   ]
  },
  {
   "cell_type": "code",
   "execution_count": 5,
   "metadata": {},
   "outputs": [],
   "source": [
    "df['is_xinhuanet'] = df.source=='新华社'"
   ]
  },
  {
   "cell_type": "code",
   "execution_count": 6,
   "metadata": {},
   "outputs": [],
   "source": [
    "df.is_xinhuanet.replace([True,False],[1,0],inplace=True)"
   ]
  },
  {
   "cell_type": "code",
   "execution_count": 7,
   "metadata": {},
   "outputs": [],
   "source": [
    "dataset = df[['content','is_xinhuanet']]"
   ]
  },
  {
   "cell_type": "markdown",
   "metadata": {},
   "source": [
    "### Step3: 使用tfidf进行文本向量化"
   ]
  },
  {
   "cell_type": "markdown",
   "metadata": {},
   "source": [
    "参考 https://scikit-learn.org/stable/modules/generated/sklearn.feature_extraction.text.TfidfVectorizer.html 对"
   ]
  },
  {
   "cell_type": "markdown",
   "metadata": {},
   "source": [
    "对文本进行向量化"
   ]
  },
  {
   "cell_type": "code",
   "execution_count": 9,
   "metadata": {},
   "outputs": [],
   "source": [
    "import jieba\n",
    "\n",
    "import os"
   ]
  },
  {
   "cell_type": "code",
   "execution_count": 10,
   "metadata": {},
   "outputs": [],
   "source": [
    "stopwords = []\n",
    "pre = '../Assignment-04/stopwords/'\n",
    "for fn in [pre+file for file in os.listdir(pre) if not file.startswith('.')]:\n",
    "    with open(fn) as fi:\n",
    "        stopwords += [l.strip() for l in fi]\n",
    "stopwords += ['\\r\\n','\\u3000',' ','\\\\']\n",
    "stopwords =set(stopwords)"
   ]
  },
  {
   "cell_type": "code",
   "execution_count": 12,
   "metadata": {},
   "outputs": [],
   "source": [
    "def clean_document(doc):\n",
    "    c_words = jieba.cut(doc)\n",
    "#     print(c_words)\n",
    "#     print('------------')\n",
    "    words = [w for w in c_words if w not in stopwords]\n",
    "    return ' '.join(words)"
   ]
  },
  {
   "cell_type": "code",
   "execution_count": 13,
   "metadata": {},
   "outputs": [],
   "source": [
    "dataset = dataset[pd.notnull(dataset.content)]"
   ]
  },
  {
   "cell_type": "code",
   "execution_count": 170,
   "metadata": {},
   "outputs": [],
   "source": [
    "dataset0 = dataset[dataset.is_xinhuanet==0][:500]\n",
    "\n",
    "dataset1 = dataset[dataset.is_xinhuanet==1][:1500]\n",
    "\n",
    "dataset_all = pd.concat([dataset0,dataset1])\n",
    "\n",
    "dataset_all.is_xinhuanet.value_counts()"
   ]
  },
  {
   "cell_type": "code",
   "execution_count": 14,
   "metadata": {},
   "outputs": [
    {
     "name": "stderr",
     "output_type": "stream",
     "text": [
      "Building prefix dict from the default dictionary ...\n",
      "Loading model from cache /tmp/jieba.cache\n",
      "Loading model cost 0.832 seconds.\n",
      "Prefix dict has been built succesfully.\n"
     ]
    }
   ],
   "source": [
    "dataset['content'] = dataset.content.apply(clean_document)"
   ]
  },
  {
   "cell_type": "code",
   "execution_count": 7,
   "metadata": {},
   "outputs": [],
   "source": [
    "dataset = pd.read_csv('data1.csv',index_col='Unnamed: 0')"
   ]
  },
  {
   "cell_type": "code",
   "execution_count": 11,
   "metadata": {},
   "outputs": [],
   "source": [
    "dataset = dataset[pd.notnull(dataset.content)]"
   ]
  },
  {
   "cell_type": "code",
   "execution_count": 8,
   "metadata": {},
   "outputs": [
    {
     "data": {
      "text/html": [
       "<div>\n",
       "<style scoped>\n",
       "    .dataframe tbody tr th:only-of-type {\n",
       "        vertical-align: middle;\n",
       "    }\n",
       "\n",
       "    .dataframe tbody tr th {\n",
       "        vertical-align: top;\n",
       "    }\n",
       "\n",
       "    .dataframe thead th {\n",
       "        text-align: right;\n",
       "    }\n",
       "</style>\n",
       "<table border=\"1\" class=\"dataframe\">\n",
       "  <thead>\n",
       "    <tr style=\"text-align: right;\">\n",
       "      <th></th>\n",
       "      <th>content</th>\n",
       "      <th>is_xinhuanet</th>\n",
       "    </tr>\n",
       "  </thead>\n",
       "  <tbody>\n",
       "    <tr>\n",
       "      <th>0</th>\n",
       "      <td>本周 月 12 日 小米 手机 15 款 机型 外 机型 暂停 更新 发布 含 开发 版 体...</td>\n",
       "      <td>0</td>\n",
       "    </tr>\n",
       "    <tr>\n",
       "      <th>1</th>\n",
       "      <td>骁龙 835 唯一 Windows 10 桌面 平台 认证 ARM 处理器 高通 性能 屏蔽...</td>\n",
       "      <td>0</td>\n",
       "    </tr>\n",
       "    <tr>\n",
       "      <th>2</th>\n",
       "      <td>此前 一加 3T 搭载 3400mAh 电池 DashCharge 快充 规格 5V 4A ...</td>\n",
       "      <td>0</td>\n",
       "    </tr>\n",
       "    <tr>\n",
       "      <th>3</th>\n",
       "      <td>这是 月 18 日 葡萄牙 中部 佩德罗 冈 地区 拍摄 森林 大火 烧毁 汽车 新华社 记...</td>\n",
       "      <td>1</td>\n",
       "    </tr>\n",
       "    <tr>\n",
       "      <th>4</th>\n",
       "      <td>原 标题 44 岁 女子 跑 深圳 约会 网友 拒 暴雨 中 裸身 奔走 … … 深圳 交警...</td>\n",
       "      <td>0</td>\n",
       "    </tr>\n",
       "  </tbody>\n",
       "</table>\n",
       "</div>"
      ],
      "text/plain": [
       "                                             content  is_xinhuanet\n",
       "0  本周 月 12 日 小米 手机 15 款 机型 外 机型 暂停 更新 发布 含 开发 版 体...             0\n",
       "1  骁龙 835 唯一 Windows 10 桌面 平台 认证 ARM 处理器 高通 性能 屏蔽...             0\n",
       "2  此前 一加 3T 搭载 3400mAh 电池 DashCharge 快充 规格 5V 4A ...             0\n",
       "3  这是 月 18 日 葡萄牙 中部 佩德罗 冈 地区 拍摄 森林 大火 烧毁 汽车 新华社 记...             1\n",
       "4  原 标题 44 岁 女子 跑 深圳 约会 网友 拒 暴雨 中 裸身 奔走 … … 深圳 交警...             0"
      ]
     },
     "execution_count": 8,
     "metadata": {},
     "output_type": "execute_result"
    }
   ],
   "source": [
    "dataset.head()"
   ]
  },
  {
   "cell_type": "markdown",
   "metadata": {},
   "source": [
    "#### TFIDF"
   ]
  },
  {
   "cell_type": "code",
   "execution_count": 9,
   "metadata": {},
   "outputs": [],
   "source": [
    ">>> from sklearn.feature_extraction.text import TfidfVectorizer\n",
    ">>> vectorizer = TfidfVectorizer(max_features=10000)\n",
    "  "
   ]
  },
  {
   "cell_type": "code",
   "execution_count": 12,
   "metadata": {},
   "outputs": [],
   "source": [
    "X = vectorizer.fit_transform(dataset.content)"
   ]
  },
  {
   "cell_type": "code",
   "execution_count": 13,
   "metadata": {},
   "outputs": [
    {
     "data": {
      "text/plain": [
       "1    78661\n",
       "0     8391\n",
       "Name: is_xinhuanet, dtype: int64"
      ]
     },
     "execution_count": 13,
     "metadata": {},
     "output_type": "execute_result"
    }
   ],
   "source": [
    "dataset.is_xinhuanet.value_counts()"
   ]
  },
  {
   "cell_type": "code",
   "execution_count": 18,
   "metadata": {},
   "outputs": [],
   "source": [
    "import numpy as np"
   ]
  },
  {
   "cell_type": "code",
   "execution_count": 22,
   "metadata": {},
   "outputs": [],
   "source": [
    "np.save('X.npy',X)"
   ]
  },
  {
   "cell_type": "code",
   "execution_count": 23,
   "metadata": {},
   "outputs": [],
   "source": [
    "np.save('is_xinhuanet.npy',dataset.is_xinhuanet.values)"
   ]
  },
  {
   "cell_type": "markdown",
   "metadata": {},
   "source": [
    "### Step4: 参考scikit-learning的方法，构建你的第一个机器学习模型"
   ]
  },
  {
   "cell_type": "markdown",
   "metadata": {},
   "source": [
    "+ 按照课程讲解的内容，把数据集分割为 traning_data, validation_data, test_data. https://scikit-learn.org/stable/modules/generated/sklearn.model_selection.train_test_split.html"
   ]
  },
  {
   "cell_type": "markdown",
   "metadata": {},
   "source": [
    "+ 参照scikit learning的示例，从构建你的第一个KNN机器学习模型。"
   ]
  },
  {
   "cell_type": "code",
   "execution_count": 14,
   "metadata": {},
   "outputs": [],
   "source": [
    "from sklearn.model_selection import train_test_split\n",
    "\n",
    "from sklearn.metrics import precision_score,recall_score,accuracy_score,f1_score,confusion_matrix"
   ]
  },
  {
   "cell_type": "code",
   "execution_count": 15,
   "metadata": {},
   "outputs": [],
   "source": [
    "X_train, X_test, y_train, y_test = train_test_split(X, dataset.is_xinhuanet, test_size=0.8, random_state=42)"
   ]
  },
  {
   "cell_type": "code",
   "execution_count": 16,
   "metadata": {},
   "outputs": [],
   "source": [
    "X_test, X_validation, y_test, y_validation = train_test_split(X_test, y_test, test_size=0.5, random_state=42)"
   ]
  },
  {
   "cell_type": "code",
   "execution_count": 17,
   "metadata": {},
   "outputs": [
    {
     "data": {
      "text/plain": [
       "KNeighborsClassifier(algorithm='auto', leaf_size=30, metric='minkowski',\n",
       "                     metric_params=None, n_jobs=None, n_neighbors=10, p=2,\n",
       "                     weights='uniform')"
      ]
     },
     "execution_count": 17,
     "metadata": {},
     "output_type": "execute_result"
    }
   ],
   "source": [
    ">>> from sklearn.neighbors import KNeighborsClassifier\n",
    ">>> neigh = KNeighborsClassifier(n_neighbors=10)\n",
    ">>> neigh.fit(X_train, y_train) "
   ]
  },
  {
   "cell_type": "markdown",
   "metadata": {},
   "source": [
    "### Step5: 在traning_data, validation_data, test_data 上观察其相关metric: recall, precision, f1等， 并解释其含义. "
   ]
  },
  {
   "cell_type": "code",
   "execution_count": 47,
   "metadata": {},
   "outputs": [
    {
     "name": "stdout",
     "output_type": "stream",
     "text": [
      "0.9512165487075119\n",
      "0.9123353921454376\n",
      "0.9935592359921315\n",
      "0.907759462408822\n"
     ]
    }
   ],
   "source": [
    "y_pre = neigh.predict(X_test)\n",
    "print(f1_score(y_test,y_pre)) \n",
    "\n",
    "print(precision_score(y_test,y_pre))\n",
    "print(recall_score(y_test,y_pre))\n",
    "print(accuracy_score(y_test,y_pre))"
   ]
  },
  {
   "cell_type": "markdown",
   "metadata": {},
   "source": [
    "### Step6: 使用 test_data 对其进行新数据的判断, 你有没"
   ]
  },
  {
   "cell_type": "code",
   "execution_count": 51,
   "metadata": {},
   "outputs": [
    {
     "name": "stdout",
     "output_type": "stream",
     "text": [
      "[[  259  3088]\n",
      " [  169 31306]]\n",
      "0.9102168982962144\n",
      "0.9946306592533757\n",
      "0.9064671759232669\n"
     ]
    }
   ],
   "source": [
    "y_pre = neigh.predict(X_validation)\n",
    "\n",
    "print(confusion_matrix(y_validation,y_pre,labels=[0,1]))\n",
    "print(precision_score(y_validation,y_pre))\n",
    "print(recall_score(y_validation,y_pre))\n",
    "print(accuracy_score(y_validation,y_pre))"
   ]
  },
  {
   "cell_type": "code",
   "execution_count": 1,
   "metadata": {},
   "outputs": [],
   "source": [
    "from joblib import dump, load"
   ]
  },
  {
   "cell_type": "code",
   "execution_count": 25,
   "metadata": {},
   "outputs": [
    {
     "data": {
      "text/plain": [
       "['knn.model']"
      ]
     },
     "execution_count": 25,
     "metadata": {},
     "output_type": "execute_result"
    }
   ],
   "source": [
    "dump(neigh,'knn.model')"
   ]
  },
  {
   "cell_type": "markdown",
   "metadata": {},
   "source": [
    "### Step7: 调整不同的参数，观察变化"
   ]
  },
  {
   "cell_type": "markdown",
   "metadata": {},
   "source": [
    "使用  Grid Search 来找到最佳参数"
   ]
  },
  {
   "cell_type": "markdown",
   "metadata": {},
   "source": [
    "可以调整的参数有  最近邻个数K，"
   ]
  },
  {
   "cell_type": "code",
   "execution_count": 52,
   "metadata": {},
   "outputs": [],
   "source": [
    "from sklearn.model_selection import GridSearchCV"
   ]
  },
  {
   "cell_type": "code",
   "execution_count": null,
   "metadata": {},
   "outputs": [],
   "source": [
    "# it's your time"
   ]
  },
  {
   "cell_type": "code",
   "execution_count": 59,
   "metadata": {},
   "outputs": [],
   "source": [
    "knn_model = KNeighborsClassifier(algorithm='ball_tree')"
   ]
  },
  {
   "cell_type": "code",
   "execution_count": 60,
   "metadata": {},
   "outputs": [],
   "source": [
    "parameters = {\n",
    "    'n_neighbors': [1,3,8,13,18,25]\n",
    "}"
   ]
  },
  {
   "cell_type": "code",
   "execution_count": 65,
   "metadata": {},
   "outputs": [],
   "source": [
    "from sklearn.metrics import f1_score, make_scorer\n",
    "f1_scorer = make_scorer(f1_score)\n"
   ]
  },
  {
   "cell_type": "code",
   "execution_count": 66,
   "metadata": {},
   "outputs": [],
   "source": [
    "clf = GridSearchCV(knn_model, parameters, cv=5,n_jobs=3,scoring=f1_scorer)"
   ]
  },
  {
   "cell_type": "code",
   "execution_count": null,
   "metadata": {},
   "outputs": [
    {
     "name": "stderr",
     "output_type": "stream",
     "text": [
      "exception calling callback for <Future at 0x7f4bacd24080 state=finished raised TerminatedWorkerError>\n",
      "Traceback (most recent call last):\n",
      "  File \"/home/xu/environment/djangorestful/lib/python3.5/site-packages/joblib/externals/loky/_base.py\", line 625, in _invoke_callbacks\n",
      "    callback(self)\n",
      "  File \"/home/xu/environment/djangorestful/lib/python3.5/site-packages/joblib/parallel.py\", line 309, in __call__\n",
      "    self.parallel.dispatch_next()\n",
      "  File \"/home/xu/environment/djangorestful/lib/python3.5/site-packages/joblib/parallel.py\", line 731, in dispatch_next\n",
      "    if not self.dispatch_one_batch(self._original_iterator):\n",
      "  File \"/home/xu/environment/djangorestful/lib/python3.5/site-packages/joblib/parallel.py\", line 759, in dispatch_one_batch\n",
      "    self._dispatch(tasks)\n",
      "  File \"/home/xu/environment/djangorestful/lib/python3.5/site-packages/joblib/parallel.py\", line 716, in _dispatch\n",
      "    job = self._backend.apply_async(batch, callback=cb)\n",
      "  File \"/home/xu/environment/djangorestful/lib/python3.5/site-packages/joblib/_parallel_backends.py\", line 510, in apply_async\n",
      "    future = self._workers.submit(SafeFunction(func))\n",
      "  File \"/home/xu/environment/djangorestful/lib/python3.5/site-packages/joblib/externals/loky/reusable_executor.py\", line 151, in submit\n",
      "    fn, *args, **kwargs)\n",
      "  File \"/home/xu/environment/djangorestful/lib/python3.5/site-packages/joblib/externals/loky/process_executor.py\", line 1022, in submit\n",
      "    raise self._flags.broken\n",
      "  File \"/usr/lib/python3.5/concurrent/futures/_base.py\", line 405, in result\n",
      "    return self.__get_result()\n",
      "  File \"/usr/lib/python3.5/concurrent/futures/_base.py\", line 357, in __get_result\n",
      "    raise self._exception\n",
      "joblib.externals.loky.process_executor.TerminatedWorkerError: A worker process managed by the executor was unexpectedly terminated. This could be caused by a segmentation fault while calling the function or by an excessive memory usage causing the Operating System to kill the worker. The exit codes of the workers are {SIGKILL(-9)}\n"
     ]
    }
   ],
   "source": [
    "clf.fit(X,dataset.is_xinhuanet)"
   ]
  },
  {
   "cell_type": "markdown",
   "metadata": {},
   "source": [
    "### Step8: 不断改变参数，直到性能达到“某个”点。问：“某个”怎么定义？"
   ]
  },
  {
   "cell_type": "markdown",
   "metadata": {},
   "source": [
    "模型表现没有明显变化的时刻？\n",
    "\n",
    "这个不太懂，希望助教讲解一下。"
   ]
  },
  {
   "cell_type": "markdown",
   "metadata": {},
   "source": [
    "### Step9: 找出所以预测为 1， 但是实际为 0 的文章。 作为抄袭的候选者。"
   ]
  },
  {
   "cell_type": "code",
   "execution_count": 27,
   "metadata": {},
   "outputs": [],
   "source": [
    "y_all_predict = neigh.predict(X)"
   ]
  },
  {
   "cell_type": "code",
   "execution_count": 32,
   "metadata": {},
   "outputs": [
    {
     "data": {
      "text/html": [
       "<div>\n",
       "<style scoped>\n",
       "    .dataframe tbody tr th:only-of-type {\n",
       "        vertical-align: middle;\n",
       "    }\n",
       "\n",
       "    .dataframe tbody tr th {\n",
       "        vertical-align: top;\n",
       "    }\n",
       "\n",
       "    .dataframe thead th {\n",
       "        text-align: right;\n",
       "    }\n",
       "</style>\n",
       "<table border=\"1\" class=\"dataframe\">\n",
       "  <thead>\n",
       "    <tr style=\"text-align: right;\">\n",
       "      <th></th>\n",
       "      <th>content</th>\n",
       "      <th>is_xinhuanet</th>\n",
       "    </tr>\n",
       "  </thead>\n",
       "  <tbody>\n",
       "    <tr>\n",
       "      <th>0</th>\n",
       "      <td>本周 月 12 日 小米 手机 15 款 机型 外 机型 暂停 更新 发布 含 开发 版 体...</td>\n",
       "      <td>0</td>\n",
       "    </tr>\n",
       "    <tr>\n",
       "      <th>1</th>\n",
       "      <td>骁龙 835 唯一 Windows 10 桌面 平台 认证 ARM 处理器 高通 性能 屏蔽...</td>\n",
       "      <td>0</td>\n",
       "    </tr>\n",
       "    <tr>\n",
       "      <th>2</th>\n",
       "      <td>此前 一加 3T 搭载 3400mAh 电池 DashCharge 快充 规格 5V 4A ...</td>\n",
       "      <td>0</td>\n",
       "    </tr>\n",
       "    <tr>\n",
       "      <th>4</th>\n",
       "      <td>原 标题 44 岁 女子 跑 深圳 约会 网友 拒 暴雨 中 裸身 奔走 … … 深圳 交警...</td>\n",
       "      <td>0</td>\n",
       "    </tr>\n",
       "    <tr>\n",
       "      <th>6</th>\n",
       "      <td>夏普 智能手机 市场 排得 号 没落 2013 年 退出 中国 市场 月份 官方 回归 中国...</td>\n",
       "      <td>0</td>\n",
       "    </tr>\n",
       "    <tr>\n",
       "      <th>7</th>\n",
       "      <td>沙漠 雄鹰 震荡 消化 套牢 筹码 周四 开盘 上证 50 银行 券商 蓝筹 带动 一度 涨...</td>\n",
       "      <td>0</td>\n",
       "    </tr>\n",
       "    <tr>\n",
       "      <th>8</th>\n",
       "      <td>原 标题 武汉 警方 一下子 抓 808 俊男靓女 偷偷摸摸 干 这事 武汉 警方 一下子 ...</td>\n",
       "      <td>0</td>\n",
       "    </tr>\n",
       "    <tr>\n",
       "      <th>10</th>\n",
       "      <td>证券时报 网 www stcn 06 月 23 日讯 上证 报道 月初 创业板 指数 强于 ...</td>\n",
       "      <td>0</td>\n",
       "    </tr>\n",
       "    <tr>\n",
       "      <th>11</th>\n",
       "      <td>巨丰 早评 市场 探底 巨丰 观点 周四 大盘 冲高 回落 2500 余 个股 下跌 上证 ...</td>\n",
       "      <td>0</td>\n",
       "    </tr>\n",
       "    <tr>\n",
       "      <th>12</th>\n",
       "      <td>中新网 月 19 日电 外媒 报道 美国 底特律 一名 男子 1976 年 一根 头发 被定...</td>\n",
       "      <td>0</td>\n",
       "    </tr>\n",
       "    <tr>\n",
       "      <th>13</th>\n",
       "      <td>曹 风格 转换 前 阵痛 今日 早盘 两地 低开 一度 震荡 走高 领涨 上证 50 指数 ...</td>\n",
       "      <td>0</td>\n",
       "    </tr>\n",
       "    <tr>\n",
       "      <th>15</th>\n",
       "      <td>中国 证券网 讯 记者 费 天元 沪 深 两市 周五 临近 午盘 快速 跳水 沪 指 连续 ...</td>\n",
       "      <td>0</td>\n",
       "    </tr>\n",
       "    <tr>\n",
       "      <th>16</th>\n",
       "      <td>九成 源 包用 逐位 方式 构建 未来 版本 Debian 提供 验证 包 工具 元 数据 ...</td>\n",
       "      <td>0</td>\n",
       "    </tr>\n",
       "    <tr>\n",
       "      <th>17</th>\n",
       "      <td>国歌 法 草案 首次 提请 立法机关 审议 点击 图片 一页 新闻 十二届 全国人大常委会 ...</td>\n",
       "      <td>0</td>\n",
       "    </tr>\n",
       "    <tr>\n",
       "      <th>19</th>\n",
       "      <td>提示 声明 本文 涉及 行业 个股 分析 来源于 券商 研究 报告 仅为 分析 人士 行业 ...</td>\n",
       "      <td>0</td>\n",
       "    </tr>\n",
       "    <tr>\n",
       "      <th>20</th>\n",
       "      <td>原 标题 叙利亚 袭机 事件 惹怒 俄罗斯 警告 瞄准 美 战机 海外 网 月 19 日电 ...</td>\n",
       "      <td>0</td>\n",
       "    </tr>\n",
       "    <tr>\n",
       "      <th>21</th>\n",
       "      <td>提示 声明 本文 涉及 行业 个股 分析 来源于 券商 研究 报告 仅为 分析 人士 行业 ...</td>\n",
       "      <td>0</td>\n",
       "    </tr>\n",
       "    <tr>\n",
       "      <th>22</th>\n",
       "      <td>几天 一位 微博 名为 摩卡 RQ 手机 芯片 互联网 三界 知名 独立 评论 爆料 称 O...</td>\n",
       "      <td>0</td>\n",
       "    </tr>\n",
       "    <tr>\n",
       "      <th>23</th>\n",
       "      <td>中证网 讯 本报记者 张怡 此前 两日 蓝筹股 强势 格局 周五 A股 市场 指数 低开 震...</td>\n",
       "      <td>0</td>\n",
       "    </tr>\n",
       "    <tr>\n",
       "      <th>24</th>\n",
       "      <td>北京 时间 月 20 日 江苏 苏宁 足球 俱乐部 发布 足协杯 第四轮 江苏 苏宁 易 购...</td>\n",
       "      <td>0</td>\n",
       "    </tr>\n",
       "    <tr>\n",
       "      <th>25</th>\n",
       "      <td>时间 2017 年 月 17 日 土耳其 马 尼萨 省 土耳其 步兵 训练 大队 司令部 军...</td>\n",
       "      <td>0</td>\n",
       "    </tr>\n",
       "    <tr>\n",
       "      <th>26</th>\n",
       "      <td>月份 王劲 百度 自动 驾驶 事业部 任上 离职 创办 景驰 科技 日子 里 景驰 很快 组...</td>\n",
       "      <td>0</td>\n",
       "    </tr>\n",
       "    <tr>\n",
       "      <th>27</th>\n",
       "      <td>英国 欧盟 脱欧 谈判 19 日 正式 英国首相 特雷莎 梅正 面临 空前 政治 压力 不久...</td>\n",
       "      <td>0</td>\n",
       "    </tr>\n",
       "    <tr>\n",
       "      <th>28</th>\n",
       "      <td>中超联赛 13 轮 比赛 结束 这轮 比赛 中 最让人 出乎意料 莫过于 卡佩罗 执教 江苏...</td>\n",
       "      <td>0</td>\n",
       "    </tr>\n",
       "    <tr>\n",
       "      <th>29</th>\n",
       "      <td>文章 导读 供应商 围堵 追债 20 多位 高管 离职 上千人 裁员 孤注一掷 史上 大规模...</td>\n",
       "      <td>0</td>\n",
       "    </tr>\n",
       "    <tr>\n",
       "      <th>30</th>\n",
       "      <td>刚刚 启动 发动机 听见 清脆 玻璃 破裂声 一匹 骏马 副驾驶 座位 含情脉脉 看着 电影...</td>\n",
       "      <td>0</td>\n",
       "    </tr>\n",
       "    <tr>\n",
       "      <th>31</th>\n",
       "      <td>中国 之声 新闻纵横 报道 近日 日本 媒体 披露 政府 首相 安倍晋三 好友 办学 开绿灯...</td>\n",
       "      <td>0</td>\n",
       "    </tr>\n",
       "    <tr>\n",
       "      <th>32</th>\n",
       "      <td>规格 搭载 飞思 卡尔 IMX6SL 处理器 内存 512MB 存储 8GB 采用 定制 版...</td>\n",
       "      <td>0</td>\n",
       "    </tr>\n",
       "    <tr>\n",
       "      <th>33</th>\n",
       "      <td>张稀哲 毫无疑问 现役 国内 球员 前腰 佩兰 国家队 得不到 重用 高洪波 里 皮国足 主...</td>\n",
       "      <td>0</td>\n",
       "    </tr>\n",
       "    <tr>\n",
       "      <th>34</th>\n",
       "      <td>笔者 发现 款 产品 众筹 成功 众筹 页面 显示 香蕉 电话 总共 筹集 36320 美元...</td>\n",
       "      <td>0</td>\n",
       "    </tr>\n",
       "    <tr>\n",
       "      <th>...</th>\n",
       "      <td>...</td>\n",
       "      <td>...</td>\n",
       "    </tr>\n",
       "    <tr>\n",
       "      <th>10946</th>\n",
       "      <td>成都 商报讯 记者 李秀明 横幅 一种 比较落后 宣传 方式 城区 乱 牵乱 挂 违反 相关...</td>\n",
       "      <td>0</td>\n",
       "    </tr>\n",
       "    <tr>\n",
       "      <th>10947</th>\n",
       "      <td>刘赐贵 考察团 一行 到来 港琼籍 乡亲 海南 关心 支持 表示感谢 刘赐贵 说 香港 海南...</td>\n",
       "      <td>0</td>\n",
       "    </tr>\n",
       "    <tr>\n",
       "      <th>10948</th>\n",
       "      <td>本报讯 记者 孙志刚 徐富盈 文 图 本报 率先 持续 重磅 报道 产妇 雨中 路边 产婴 ...</td>\n",
       "      <td>0</td>\n",
       "    </tr>\n",
       "    <tr>\n",
       "      <th>10949</th>\n",
       "      <td>原 标题 风云突变 巴拿马 退出 台湾 朋友圈 两岸 大有 台当局 愤怒 巴拿马 欺骗 来源...</td>\n",
       "      <td>0</td>\n",
       "    </tr>\n",
       "    <tr>\n",
       "      <th>10950</th>\n",
       "      <td>南方日报 讯 记者 谢庆裕 田迪迪 去年 登陆 广东 首个 台风 妮 妲 12 日 23 时...</td>\n",
       "      <td>0</td>\n",
       "    </tr>\n",
       "    <tr>\n",
       "      <th>10951</th>\n",
       "      <td>台 外事 部门 官员 李 大维 资料 图 海外 网 月 13 日电 今日 中国 巴拿马 两 ...</td>\n",
       "      <td>0</td>\n",
       "    </tr>\n",
       "    <tr>\n",
       "      <th>10952</th>\n",
       "      <td>本报讯 记者 康鹏 通讯员 周 明德 手机 上点 开 APP 找到 共享 汽车 点 用车 车...</td>\n",
       "      <td>0</td>\n",
       "    </tr>\n",
       "    <tr>\n",
       "      <th>10953</th>\n",
       "      <td>污水处理 费 月 上调</td>\n",
       "      <td>0</td>\n",
       "    </tr>\n",
       "    <tr>\n",
       "      <th>10954</th>\n",
       "      <td>授予 维护 国家主权 发展 利益 推进 国防 军队 现代化 建设 中 建立 卓越 功勋 军队...</td>\n",
       "      <td>0</td>\n",
       "    </tr>\n",
       "    <tr>\n",
       "      <th>10955</th>\n",
       "      <td>郑报 融媒 记者 覃 岩峰 史 治国 姚辉常 文 图 夏日 山里 山风 清凉 村干部 引导 ...</td>\n",
       "      <td>0</td>\n",
       "    </tr>\n",
       "    <tr>\n",
       "      <th>10956</th>\n",
       "      <td>记者 参加 评卷 老师 共有 698 名 特级教师 18 名 学科 带头人 一级 职称 含 ...</td>\n",
       "      <td>0</td>\n",
       "    </tr>\n",
       "    <tr>\n",
       "      <th>10957</th>\n",
       "      <td>英超 堪称 商业价值 足球联赛 平均分配 转播 收入 做法 一支 英超 球队 变得 有钱 竞...</td>\n",
       "      <td>0</td>\n",
       "    </tr>\n",
       "    <tr>\n",
       "      <th>10958</th>\n",
       "      <td>城乡 社区 社会 治理 单元 城乡 社区 治理 事关 党和国家 大政方针 贯彻落实 事关 居...</td>\n",
       "      <td>0</td>\n",
       "    </tr>\n",
       "    <tr>\n",
       "      <th>10959</th>\n",
       "      <td>左转 车道 提前 开放 排队 绿灯 延长 秒 通行 记者 鞠頔 汪洋 交管部门 采纳 市民 ...</td>\n",
       "      <td>0</td>\n",
       "    </tr>\n",
       "    <tr>\n",
       "      <th>10960</th>\n",
       "      <td>资料 图 近日 纽约 邮报 关注 政府 秘密 地下 撤退 点 股票 投资 军事 指挥 撤退 ...</td>\n",
       "      <td>0</td>\n",
       "    </tr>\n",
       "    <tr>\n",
       "      <th>10961</th>\n",
       "      <td>苗柏 广东 台风 早到 半个 月 广州 今日 大雨 暴雨 船只 回港 避风 高铁 停运</td>\n",
       "      <td>0</td>\n",
       "    </tr>\n",
       "    <tr>\n",
       "      <th>10963</th>\n",
       "      <td>本报讯 记者 袁帅 昨日 下午 市委 副 书记 市委 秘书长 靳磊 带领 市 扶贫办 新密市...</td>\n",
       "      <td>0</td>\n",
       "    </tr>\n",
       "    <tr>\n",
       "      <th>10964</th>\n",
       "      <td>原 标题 8.5 万吨 10 亿 广东 汕头 海关 破获 特大 固体废物 走私案 凌晨 广东...</td>\n",
       "      <td>0</td>\n",
       "    </tr>\n",
       "    <tr>\n",
       "      <th>10965</th>\n",
       "      <td>新华社 北京 月 12 日电 中央军委 主席 习近平 批准 我军 新 设立 八一 勋章 组织...</td>\n",
       "      <td>0</td>\n",
       "    </tr>\n",
       "    <tr>\n",
       "      <th>10966</th>\n",
       "      <td>导则 指出 全域 旅游 示范区 创建 五个 目标 起到 示范 引领 作用 一是 旅游 治理 ...</td>\n",
       "      <td>0</td>\n",
       "    </tr>\n",
       "    <tr>\n",
       "      <th>10967</th>\n",
       "      <td>本报讯 记者 郑汝可 12 日 省委 副 书记 市委书记 陈 一新 主持 市委 常委会 传达...</td>\n",
       "      <td>0</td>\n",
       "    </tr>\n",
       "    <tr>\n",
       "      <th>10968</th>\n",
       "      <td>我军 新 设立 八一 勋章</td>\n",
       "      <td>0</td>\n",
       "    </tr>\n",
       "    <tr>\n",
       "      <th>10969</th>\n",
       "      <td>成都 商报讯 记者 张瑾 成都 2017 年 高中 阶段 教育 学校 统一 招生 考试 13...</td>\n",
       "      <td>0</td>\n",
       "    </tr>\n",
       "    <tr>\n",
       "      <th>10970</th>\n",
       "      <td>本报讯 记者 聂春洁 记者 昨日 铁路 部门 获悉 全国 铁路 图 月 日 迎来 调整 备受...</td>\n",
       "      <td>0</td>\n",
       "    </tr>\n",
       "    <tr>\n",
       "      <th>10971</th>\n",
       "      <td>传奇 收藏版 包括 73 厘米 高 Bayek Senu 宠物 鹰 雕像 限量 编号 证书 ...</td>\n",
       "      <td>0</td>\n",
       "    </tr>\n",
       "    <tr>\n",
       "      <th>10972</th>\n",
       "      <td>中新社 刘震 摄 郑重 承诺 中国政府 参与 创造 优惠 条件 ! 李克强 话音刚落 现场 ...</td>\n",
       "      <td>0</td>\n",
       "    </tr>\n",
       "    <tr>\n",
       "      <th>10973</th>\n",
       "      <td>郑报 融媒 记者 张立 石闯 顾翔 文 图 脱贫 攻坚 记者 蹲点 夏日 里 乱石 坡 房前...</td>\n",
       "      <td>0</td>\n",
       "    </tr>\n",
       "    <tr>\n",
       "      <th>10974</th>\n",
       "      <td>新华社 电 中央军委 主席 习近平 批准 我军 新 设立 八一 勋章 组织 首次 评选 新 ...</td>\n",
       "      <td>0</td>\n",
       "    </tr>\n",
       "    <tr>\n",
       "      <th>10977</th>\n",
       "      <td>意见 完善 城乡 社区 治理 五项 原则 党的领导 固 本强基 以人为本 服务 居民 改革 ...</td>\n",
       "      <td>0</td>\n",
       "    </tr>\n",
       "    <tr>\n",
       "      <th>10978</th>\n",
       "      <td>新华社 北京 月 12 日电 中央军委 主席 习近平 批准 我军 新 设立 八一 勋章 组织...</td>\n",
       "      <td>0</td>\n",
       "    </tr>\n",
       "  </tbody>\n",
       "</table>\n",
       "<p>7543 rows × 2 columns</p>\n",
       "</div>"
      ],
      "text/plain": [
       "                                                 content  is_xinhuanet\n",
       "0      本周 月 12 日 小米 手机 15 款 机型 外 机型 暂停 更新 发布 含 开发 版 体...             0\n",
       "1      骁龙 835 唯一 Windows 10 桌面 平台 认证 ARM 处理器 高通 性能 屏蔽...             0\n",
       "2      此前 一加 3T 搭载 3400mAh 电池 DashCharge 快充 规格 5V 4A ...             0\n",
       "4      原 标题 44 岁 女子 跑 深圳 约会 网友 拒 暴雨 中 裸身 奔走 … … 深圳 交警...             0\n",
       "6      夏普 智能手机 市场 排得 号 没落 2013 年 退出 中国 市场 月份 官方 回归 中国...             0\n",
       "7      沙漠 雄鹰 震荡 消化 套牢 筹码 周四 开盘 上证 50 银行 券商 蓝筹 带动 一度 涨...             0\n",
       "8      原 标题 武汉 警方 一下子 抓 808 俊男靓女 偷偷摸摸 干 这事 武汉 警方 一下子 ...             0\n",
       "10     证券时报 网 www stcn 06 月 23 日讯 上证 报道 月初 创业板 指数 强于 ...             0\n",
       "11     巨丰 早评 市场 探底 巨丰 观点 周四 大盘 冲高 回落 2500 余 个股 下跌 上证 ...             0\n",
       "12     中新网 月 19 日电 外媒 报道 美国 底特律 一名 男子 1976 年 一根 头发 被定...             0\n",
       "13     曹 风格 转换 前 阵痛 今日 早盘 两地 低开 一度 震荡 走高 领涨 上证 50 指数 ...             0\n",
       "15     中国 证券网 讯 记者 费 天元 沪 深 两市 周五 临近 午盘 快速 跳水 沪 指 连续 ...             0\n",
       "16     九成 源 包用 逐位 方式 构建 未来 版本 Debian 提供 验证 包 工具 元 数据 ...             0\n",
       "17     国歌 法 草案 首次 提请 立法机关 审议 点击 图片 一页 新闻 十二届 全国人大常委会 ...             0\n",
       "19     提示 声明 本文 涉及 行业 个股 分析 来源于 券商 研究 报告 仅为 分析 人士 行业 ...             0\n",
       "20     原 标题 叙利亚 袭机 事件 惹怒 俄罗斯 警告 瞄准 美 战机 海外 网 月 19 日电 ...             0\n",
       "21     提示 声明 本文 涉及 行业 个股 分析 来源于 券商 研究 报告 仅为 分析 人士 行业 ...             0\n",
       "22     几天 一位 微博 名为 摩卡 RQ 手机 芯片 互联网 三界 知名 独立 评论 爆料 称 O...             0\n",
       "23     中证网 讯 本报记者 张怡 此前 两日 蓝筹股 强势 格局 周五 A股 市场 指数 低开 震...             0\n",
       "24     北京 时间 月 20 日 江苏 苏宁 足球 俱乐部 发布 足协杯 第四轮 江苏 苏宁 易 购...             0\n",
       "25     时间 2017 年 月 17 日 土耳其 马 尼萨 省 土耳其 步兵 训练 大队 司令部 军...             0\n",
       "26     月份 王劲 百度 自动 驾驶 事业部 任上 离职 创办 景驰 科技 日子 里 景驰 很快 组...             0\n",
       "27     英国 欧盟 脱欧 谈判 19 日 正式 英国首相 特雷莎 梅正 面临 空前 政治 压力 不久...             0\n",
       "28     中超联赛 13 轮 比赛 结束 这轮 比赛 中 最让人 出乎意料 莫过于 卡佩罗 执教 江苏...             0\n",
       "29     文章 导读 供应商 围堵 追债 20 多位 高管 离职 上千人 裁员 孤注一掷 史上 大规模...             0\n",
       "30     刚刚 启动 发动机 听见 清脆 玻璃 破裂声 一匹 骏马 副驾驶 座位 含情脉脉 看着 电影...             0\n",
       "31     中国 之声 新闻纵横 报道 近日 日本 媒体 披露 政府 首相 安倍晋三 好友 办学 开绿灯...             0\n",
       "32     规格 搭载 飞思 卡尔 IMX6SL 处理器 内存 512MB 存储 8GB 采用 定制 版...             0\n",
       "33     张稀哲 毫无疑问 现役 国内 球员 前腰 佩兰 国家队 得不到 重用 高洪波 里 皮国足 主...             0\n",
       "34     笔者 发现 款 产品 众筹 成功 众筹 页面 显示 香蕉 电话 总共 筹集 36320 美元...             0\n",
       "...                                                  ...           ...\n",
       "10946  成都 商报讯 记者 李秀明 横幅 一种 比较落后 宣传 方式 城区 乱 牵乱 挂 违反 相关...             0\n",
       "10947  刘赐贵 考察团 一行 到来 港琼籍 乡亲 海南 关心 支持 表示感谢 刘赐贵 说 香港 海南...             0\n",
       "10948  本报讯 记者 孙志刚 徐富盈 文 图 本报 率先 持续 重磅 报道 产妇 雨中 路边 产婴 ...             0\n",
       "10949  原 标题 风云突变 巴拿马 退出 台湾 朋友圈 两岸 大有 台当局 愤怒 巴拿马 欺骗 来源...             0\n",
       "10950  南方日报 讯 记者 谢庆裕 田迪迪 去年 登陆 广东 首个 台风 妮 妲 12 日 23 时...             0\n",
       "10951  台 外事 部门 官员 李 大维 资料 图 海外 网 月 13 日电 今日 中国 巴拿马 两 ...             0\n",
       "10952  本报讯 记者 康鹏 通讯员 周 明德 手机 上点 开 APP 找到 共享 汽车 点 用车 车...             0\n",
       "10953                                        污水处理 费 月 上调             0\n",
       "10954  授予 维护 国家主权 发展 利益 推进 国防 军队 现代化 建设 中 建立 卓越 功勋 军队...             0\n",
       "10955  郑报 融媒 记者 覃 岩峰 史 治国 姚辉常 文 图 夏日 山里 山风 清凉 村干部 引导 ...             0\n",
       "10956  记者 参加 评卷 老师 共有 698 名 特级教师 18 名 学科 带头人 一级 职称 含 ...             0\n",
       "10957  英超 堪称 商业价值 足球联赛 平均分配 转播 收入 做法 一支 英超 球队 变得 有钱 竞...             0\n",
       "10958  城乡 社区 社会 治理 单元 城乡 社区 治理 事关 党和国家 大政方针 贯彻落实 事关 居...             0\n",
       "10959  左转 车道 提前 开放 排队 绿灯 延长 秒 通行 记者 鞠頔 汪洋 交管部门 采纳 市民 ...             0\n",
       "10960  资料 图 近日 纽约 邮报 关注 政府 秘密 地下 撤退 点 股票 投资 军事 指挥 撤退 ...             0\n",
       "10961        苗柏 广东 台风 早到 半个 月 广州 今日 大雨 暴雨 船只 回港 避风 高铁 停运             0\n",
       "10963  本报讯 记者 袁帅 昨日 下午 市委 副 书记 市委 秘书长 靳磊 带领 市 扶贫办 新密市...             0\n",
       "10964  原 标题 8.5 万吨 10 亿 广东 汕头 海关 破获 特大 固体废物 走私案 凌晨 广东...             0\n",
       "10965  新华社 北京 月 12 日电 中央军委 主席 习近平 批准 我军 新 设立 八一 勋章 组织...             0\n",
       "10966  导则 指出 全域 旅游 示范区 创建 五个 目标 起到 示范 引领 作用 一是 旅游 治理 ...             0\n",
       "10967  本报讯 记者 郑汝可 12 日 省委 副 书记 市委书记 陈 一新 主持 市委 常委会 传达...             0\n",
       "10968                                      我军 新 设立 八一 勋章             0\n",
       "10969  成都 商报讯 记者 张瑾 成都 2017 年 高中 阶段 教育 学校 统一 招生 考试 13...             0\n",
       "10970  本报讯 记者 聂春洁 记者 昨日 铁路 部门 获悉 全国 铁路 图 月 日 迎来 调整 备受...             0\n",
       "10971  传奇 收藏版 包括 73 厘米 高 Bayek Senu 宠物 鹰 雕像 限量 编号 证书 ...             0\n",
       "10972  中新社 刘震 摄 郑重 承诺 中国政府 参与 创造 优惠 条件 ! 李克强 话音刚落 现场 ...             0\n",
       "10973  郑报 融媒 记者 张立 石闯 顾翔 文 图 脱贫 攻坚 记者 蹲点 夏日 里 乱石 坡 房前...             0\n",
       "10974  新华社 电 中央军委 主席 习近平 批准 我军 新 设立 八一 勋章 组织 首次 评选 新 ...             0\n",
       "10977  意见 完善 城乡 社区 治理 五项 原则 党的领导 固 本强基 以人为本 服务 居民 改革 ...             0\n",
       "10978  新华社 北京 月 12 日电 中央军委 主席 习近平 批准 我军 新 设立 八一 勋章 组织...             0\n",
       "\n",
       "[7543 rows x 2 columns]"
      ]
     },
     "execution_count": 32,
     "metadata": {},
     "output_type": "execute_result"
    }
   ],
   "source": [
    "dataset[(dataset.is_xinhuanet ==0)&(dataset.is_xinhuanet != y_all_predict)]"
   ]
  },
  {
   "cell_type": "code",
   "execution_count": 13,
   "metadata": {},
   "outputs": [],
   "source": [
    "# it's your time"
   ]
  },
  {
   "cell_type": "markdown",
   "metadata": {},
   "source": [
    "### Step10： 总结该过程，什么是数据思维？什么是机器学习思维？"
   ]
  },
  {
   "cell_type": "markdown",
   "metadata": {},
   "source": [
    "### (Optional)使用第4课讲解的 edit distance，在涉嫌抄袭的文章中，找到其重复的文字与被修改过的文字。 "
   ]
  },
  {
   "cell_type": "markdown",
   "metadata": {},
   "source": [
    "### Step11: 利用第8课讲述的新模型，进行操作，感受其中不同的参数、模型对性能的影响。"
   ]
  }
 ],
 "metadata": {
  "kernelspec": {
   "display_name": "Python 3",
   "language": "python",
   "name": "python3"
  },
  "language_info": {
   "codemirror_mode": {
    "name": "ipython",
    "version": 3
   },
   "file_extension": ".py",
   "mimetype": "text/x-python",
   "name": "python",
   "nbconvert_exporter": "python",
   "pygments_lexer": "ipython3",
   "version": "3.5.2"
  }
 },
 "nbformat": 4,
 "nbformat_minor": 2
}
