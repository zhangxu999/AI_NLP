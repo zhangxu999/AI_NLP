{
 "cells": [
  {
   "cell_type": "markdown",
   "metadata": {},
   "source": [
    "## Lecture-03 Gradient Descent and Dymanic Programming"
   ]
  },
  {
   "cell_type": "markdown",
   "metadata": {},
   "source": [
    "In this week, we need complete following tasks:\n",
    "+ Re-review the course online programming; \n",
    "+ Choose 1 - 2 books which you interested and keep reading; \n",
    "+ Answer the review questions\n",
    "+ Prepare the basic requirement of our 1st project. "
   ]
  },
  {
   "cell_type": "markdown",
   "metadata": {},
   "source": [
    "### Part I Review the online programming. "
   ]
  },
  {
   "cell_type": "markdown",
   "metadata": {},
   "source": [
    "### Part 2: change loss function from $loss = \\frac{1}{n}\\sum{(y_i - \\hat(y_i))^2}$ to $loss = \\frac{1}{n}\\sum{|y_i - \\hat{y_i}|}$, and using your mathmatical knowledge to get the right partial formual. Implemen the gradient descent code."
   ]
  },
  {
   "cell_type": "markdown",
   "metadata": {},
   "source": [
    "### ***答案见   assignment-02***"
   ]
  },
  {
   "cell_type": "markdown",
   "metadata": {},
   "source": [
    "### Part 3: Finish the Solution Parse Part of Edit-Distance"
   ]
  },
  {
   "cell_type": "code",
   "execution_count": 1,
   "metadata": {},
   "outputs": [
    {
     "name": "stdout",
     "output_type": "stream",
     "text": [
      "minimun distance: 8\n",
      "A B d e r s q q q C C M M M * *\n",
      "| | | | | | | | | | | | | | | |\n",
      "A B f * r d e * * C C M M M M M\n"
     ]
    }
   ],
   "source": [
    "solution = []\n",
    "\n",
    "from functools import lru_cache\n",
    "\n",
    "\n",
    "@lru_cache(maxsize=2 ** 10)\n",
    "def edit_distance(string1, string2):\n",
    "    if len(string1)+len(string2) == 0: return (0,[])\n",
    "    if len(string1) == 0:\n",
    "        zero_min, zero_path = edit_distance(string1, string2[:-1])\n",
    "        return zero_min+1, zero_path+[('*', string2[-1])]\n",
    "    if len(string2) == 0:\n",
    "        zero_min, zero_path = edit_distance(string1[:-1], string2)\n",
    "        return zero_min+1, zero_path+[(string1[-1], '*')]\n",
    "\n",
    "    tail_s1 = string1[-1]\n",
    "    tail_s2 = string2[-1]\n",
    "    left_min, left_path = edit_distance(string1[:-1], string2)\n",
    "    right_min, right_path = edit_distance(string1, string2[:-1])\n",
    "\n",
    "    candidates = [\n",
    "        (left_min + 1, left_path+[(tail_s1, '*')]),  # string 1 delete tail\n",
    "        (right_min + 1, right_path+[('*', tail_s2)]),  # string 1 add tail of string2\n",
    "    ]\n",
    "    left_down_min, left_down_path = edit_distance(string1[:-1], string2[:-1])\n",
    "    both_forward = left_down_min+0 if tail_s1 == tail_s2 else left_down_min+1\n",
    "    both_path = left_down_path +[(tail_s1, tail_s2)]\n",
    "\n",
    "    candidates.append((both_forward, both_path))\n",
    "\n",
    "    min_distance, path = min(candidates, key=lambda x: x[0])\n",
    "\n",
    "    solution.append((string1, string2, path[-1]))\n",
    "\n",
    "    return min_distance, path\n",
    "\n",
    "s1,s2 = 'ABdersqqqCCMMM', 'ABfrdeCCMMMMM'\n",
    "num, path = edit_distance(s1, s2)\n",
    "print('minimun distance:',num)\n",
    "up = [a for a, b in path]\n",
    "down = [b for a, b in path]\n",
    "arrow = ['|' for _ in path]\n",
    "print(' '.join(up))\n",
    "print(' '.join(arrow))\n",
    "print(' '.join(down))\n"
   ]
  },
  {
   "cell_type": "markdown",
   "metadata": {},
   "source": [
    "### Part 4 Choose 1 - 2 books to keep reading: \n",
    "\n",
    "+ SICP, Structure and Interpretation of Computer Programming. \n",
    "+ Introduction to Algorithms \n",
    "+ Artificial Intelligence A Modern Approach (3rd Edition) \n",
    "+ Code Complete 2 \n",
    "+ Programming Pearls \n",
    "+ Deep Learning\n",
    "+ 黑客与画家\n",
    "+ 数学之美\n",
    "+ Fluent Python\n",
    "+ Hands on Tensorflow\n",
    "+ Conference: NIPS_ ICML_ ICLR_ ACL_ AAAI\n",
    "\n",
    "> most books you may find in our github: https://github.com/Computing-Intelligence/References"
   ]
  },
  {
   "cell_type": "markdown",
   "metadata": {},
   "source": [
    "## Part 5-1: review machine learning"
   ]
  },
  {
   "cell_type": "markdown",
   "metadata": {},
   "source": [
    "1. Why do we use Derivative / Gredient to fit a target function?¶"
   ]
  },
  {
   "cell_type": "markdown",
   "metadata": {},
   "source": [
    "Ans:"
   ]
  },
  {
   "cell_type": "markdown",
   "metadata": {},
   "source": [
    "2. In the words 'Gredient Descent', what's the Gredient and what's the Descent?¶"
   ]
  },
  {
   "cell_type": "markdown",
   "metadata": {},
   "source": [
    "Ans:"
   ]
  },
  {
   "cell_type": "markdown",
   "metadata": {},
   "source": [
    "\n",
    "3. What's the advantages of the 3rd gradient descent method compared to the previous methods?"
   ]
  },
  {
   "cell_type": "markdown",
   "metadata": {},
   "source": [
    "Ans:"
   ]
  },
  {
   "cell_type": "markdown",
   "metadata": {},
   "source": [
    "4. Using the simple words to describe: What's the machine leanring.¶"
   ]
  },
  {
   "cell_type": "markdown",
   "metadata": {},
   "source": [
    "Ans:"
   ]
  },
  {
   "cell_type": "markdown",
   "metadata": {},
   "source": [
    "#### ***这部分作业已经在 assignment-02.ipynb作答***"
   ]
  },
  {
   "cell_type": "markdown",
   "metadata": {},
   "source": [
    "### Part 5: Answer following questions: "
   ]
  },
  {
   "cell_type": "markdown",
   "metadata": {},
   "source": [
    "1. Why do we need dynamic programming? What's the difference of dynamic programming and previous talked `search` problme? "
   ]
  },
  {
   "cell_type": "markdown",
   "metadata": {},
   "source": [
    "**因为在算法中有很多重复的子问题，如果每次都重复计算这类子问题，那么很多算法的计算量将会是天文数字。**\n",
    "**动态规划常用来解决具有重复子问题并有最优子结构的算法，通常可以用查表的方式实现。 搜索问题用来处理具有图结构的问题。**"
   ]
  },
  {
   "cell_type": "markdown",
   "metadata": {},
   "source": [
    "2. Why do we still need dynamic programming? Why not we train a machine learning to fit a function which could get the `right` answer based on inputs?"
   ]
  },
  {
   "cell_type": "markdown",
   "metadata": {},
   "source": [
    "**很多问题可以通过归纳总结到经典算法来解决，并不是每一种问题，都能用机器学习来拟合一个函数完美的解决。有时候经典算法（比如动态规划）就可以解决一些看起来很复杂的问题。**"
   ]
  },
  {
   "cell_type": "markdown",
   "metadata": {},
   "source": [
    "3. Can you catch up at least 3 problems which could solved by Dynamic Programming? "
   ]
  },
  {
   "cell_type": "markdown",
   "metadata": {},
   "source": [
    "1. **编辑距离。搜索引擎，拼写纠错，提示最接近的正确答案**\n",
    "2. **解决旅行商问题**\n",
    "3. **背包问题**"
   ]
  },
  {
   "cell_type": "markdown",
   "metadata": {},
   "source": [
    "4. Can you catch up at least 3 problems wich could sloved by Edit Distance? "
   ]
  },
  {
   "cell_type": "markdown",
   "metadata": {},
   "source": [
    "1. **拼写纠错**\n",
    "2. **基因序列对比**\n",
    "3. **机器翻译评价函数**"
   ]
  },
  {
   "cell_type": "markdown",
   "metadata": {},
   "source": [
    "5. Please summarize the three main features of Dynamic Programming, and make a concise explain for each feature. \n"
   ]
  },
  {
   "cell_type": "markdown",
   "metadata": {},
   "source": [
    "1. **建立在子问题的解决之上**\n",
    "2. **全局最优解建立在子问题的最优解之上**\n",
    "3. **子问题一旦确定，就不在改变**"
   ]
  },
  {
   "cell_type": "markdown",
   "metadata": {},
   "source": [
    "6. What's the disadvantages of Dynamic Programming? (You may need search by yourself in Internet)"
   ]
  },
  {
   "cell_type": "markdown",
   "metadata": {},
   "source": [
    "- **为了存储子问题的结果，非常浪费内存**\n",
    "- **相比于贪心算法，问题规模庞大，在运行时执行会很慢**\n",
    "- **动态规划没有固定的形式，几乎每个问题都有其独特的算法形式**"
   ]
  },
  {
   "cell_type": "markdown",
   "metadata": {},
   "source": [
    "## Part 6 Preparation of Project-01"
   ]
  },
  {
   "cell_type": "markdown",
   "metadata": {},
   "source": [
    "1. Using python Flask or Bottle to finish your first simple web app:\n",
    "> https://bottlepy.org/\n",
    "\n",
    "2. Learn what's the SQL, and try some simple SQL operations:\n",
    "> https://www.w3schools.com/sql/sql_intro.asp\n",
    "\n",
    "3. Learn what's the HTML ( *ONLY* need to know the basic things)\n",
    "> https://getbootstrap.com/; https://www.w3schools.com/html/"
   ]
  },
  {
   "cell_type": "markdown",
   "metadata": {},
   "source": [
    "### answer: ***已经有相关经验***"
   ]
  },
  {
   "cell_type": "markdown",
   "metadata": {},
   "source": [
    "### (Optinal) Finish the k-person-salesman problem:"
   ]
  },
  {
   "cell_type": "code",
   "execution_count": 447,
   "metadata": {},
   "outputs": [
    {
     "data": {
      "image/png": "[encoded data removed]",
      "text/plain": [
       "<Figure size 432x288 with 1 Axes>"
      ]
     },
     "metadata": {},
     "output_type": "display_data"
    }
   ],
   "source": [
    "import random\n",
    "import matplotlib.pylab as plt\n",
    "\n",
    "import pandas as pd\n",
    "\n",
    "import numpy as np\n",
    "\n",
    "N = 15\n",
    "\n",
    "latitudes = np.random.randint(-100,100,(2,N))\n",
    "latitudes[:,0] = [0,0]\n",
    "\n",
    "#plt.scatter(latitudes[0], latitudes[1])\n",
    "\n",
    "distance = np.zeros((N,N))\n",
    "\n",
    "for i in range(N):\n",
    "    for j in range(N):\n",
    "        distance[i][j] = np.sqrt(np.square(latitudes[0,i]-latitudes[0,j])+np.square(latitudes[1,i]-latitudes[1,j]))\n",
    "\n",
    "@lru_cache(maxsize=2**18)\n",
    "def get_shortest_path(city,uv_city):\n",
    "    #print(city,uv_city)\n",
    "    if len(uv_city)==0:        \n",
    "        return distance[start,city],[start,city]\n",
    "    all_possible_distance = []\n",
    "    for c in uv_city:\n",
    "        \n",
    "        new_uv_city = sorted(list(uv_city))\n",
    "        new_uv_city.remove(c)\n",
    "        new_uv_city = tuple(new_uv_city)\n",
    "#         distance_path = min_distance.get(new_uv_city)\n",
    "#         if not distance_path:\n",
    "        distance_path = get_shortest_path(c, new_uv_city)\n",
    "        c_dist,c_path = distance_path\n",
    "        distance_city_c = distance[city,c]\n",
    "        new_distance = (distance_city_c+c_dist, c_path+[city])\n",
    "        all_possible_distance.append(new_distance)\n",
    "    all_possible_distance.sort(key=lambda x:x[0])\n",
    "#     new_uv = tuple(sorted(list(uv_city)+[city]))\n",
    "    best_options = all_possible_distance[0]\n",
    "#     min_distance[new_uv] = best_options\n",
    "    return best_options\n",
    "    \n",
    "\n",
    "start = 6\n",
    "min_distance = {}\n",
    "uv = tuple(sorted([i for i in range(N) if i!=start]))\n",
    "\n",
    "min_distance,path = get_shortest_path(start,uv)\n",
    "\n",
    "import networkx as nx\n",
    "\n",
    "import copy\n",
    "up = copy.copy(path)\n",
    "up.pop(-1)\n",
    "down = copy.copy(path)\n",
    "down.pop(0)\n",
    "location = {i:latitudes[:,i].tolist() for i in range(N)}\n",
    "graph = {k:[v] for k,v in zip(up,down)}\n",
    "city_with_road = nx.Graph(graph)\n",
    "for n,x in location.items():\n",
    "    city_with_road.nodes[n]['pos'] = x\n",
    "nx.draw(city_with_road,location,with_labels=True,node_size=300)"
   ]
  },
  {
   "cell_type": "markdown",
   "metadata": {},
   "source": [
    "给定一个初始点 𝑃, 已经 𝑘个车辆，如何从该点出发，经这 k 个车辆经过所以的点全部一次，而且所走过的路程最短?\n",
    "\n",
    "例如："
   ]
  },
  {
   "cell_type": "code",
   "execution_count": 14,
   "metadata": {},
   "outputs": [],
   "source": [
    "chosen_p = (-50, 10)\n",
    "chosen_p2 = (1, 30)\n",
    "chosen_p3 = (99, 15)"
   ]
  },
  {
   "cell_type": "code",
   "execution_count": 4,
   "metadata": {},
   "outputs": [],
   "source": [
    "import matplotlib.pyplot as plt"
   ]
  },
  {
   "cell_type": "code",
   "execution_count": 15,
   "metadata": {
    "scrolled": true
   },
   "outputs": [
    {
     "data": {
      "text/plain": [
       "<matplotlib.collections.PathCollection at 0x11dbbd470>"
      ]
     },
     "execution_count": 15,
     "metadata": {},
     "output_type": "execute_result"
    },
    {
     "data": {
      "image/png": "[encoded data removed]",
      "text/plain": [
       "<Figure size 432x288 with 1 Axes>"
      ]
     },
     "metadata": {
      "needs_background": "light"
     },
     "output_type": "display_data"
    }
   ],
   "source": [
    "plt.scatter(latitudes, longitude)\n",
    "plt.scatter([chosen_p[0]], [chosen_p[1]], color='r')\n",
    "plt.scatter([chosen_p2[0]], [chosen_p2[1]], color='r')\n",
    "plt.scatter([chosen_p3[0]], [chosen_p3[1]], color='r')"
   ]
  },
  {
   "cell_type": "markdown",
   "metadata": {},
   "source": [
    "shuro"
   ]
  }
 ],
 "metadata": {
  "kernelspec": {
   "display_name": "Python 3",
   "language": "python",
   "name": "python3"
  },
  "language_info": {
   "codemirror_mode": {
    "name": "ipython",
    "version": 3
   },
   "file_extension": ".py",
   "mimetype": "text/x-python",
   "name": "python",
   "nbconvert_exporter": "python",
   "pygments_lexer": "ipython3",
   "version": "3.5.2"
  }
 },
 "nbformat": 4,
 "nbformat_minor": 2
}
